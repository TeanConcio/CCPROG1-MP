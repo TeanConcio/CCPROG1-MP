{
 "cells": [
  {
   "cell_type": "markdown",
   "metadata": {},
   "source": [
    "## I. Introduction to the Problem and Dataset"
   ]
  },
  {
   "cell_type": "code",
   "execution_count": 1,
   "metadata": {},
   "outputs": [
    {
     "name": "stdout",
     "output_type": "stream",
     "text": [
      "Hello World!\n"
     ]
    }
   ],
   "source": [
    "print(\"Hello World!\")"
   ]
  },
  {
   "cell_type": "markdown",
   "metadata": {},
   "source": [
    "## II. Description of the dataset"
   ]
  },
  {
   "cell_type": "markdown",
   "metadata": {},
   "source": [
    "## III. List of requirements"
   ]
  },
  {
   "cell_type": "code",
   "execution_count": 2,
   "metadata": {},
   "outputs": [],
   "source": [
    "# Constants\n",
    "dataset_path = 'Dataset 2 - Garments Dataset/garments.csv'\n",
    "random_seed = 69"
   ]
  },
  {
   "cell_type": "code",
   "execution_count": 3,
   "metadata": {},
   "outputs": [
    {
     "name": "stderr",
     "output_type": "stream",
     "text": [
      "C:\\Users\\Rapha\\AppData\\Local\\Temp\\ipykernel_7608\\1149638224.py:2: DeprecationWarning: \n",
      "Pyarrow will become a required dependency of pandas in the next major release of pandas (pandas 3.0),\n",
      "(to allow more performant data types, such as the Arrow string type, and better interoperability with other libraries)\n",
      "but was not found to be installed on your system.\n",
      "If this would cause problems for you,\n",
      "please provide us feedback at https://github.com/pandas-dev/pandas/issues/54466\n",
      "        \n",
      "  import pandas as pd\n"
     ]
    }
   ],
   "source": [
    "# Importing the libraries\n",
    "import pandas as pd\n",
    "import numpy as np\n",
    "import matplotlib.pyplot as plt\n",
    "import itertools\n",
    "\n",
    "# Training and Testing the model\n",
    "from sklearn.model_selection import train_test_split\n",
    "from sklearn.pipeline import Pipeline\n",
    "from sklearn.preprocessing import StandardScaler\n",
    "from sklearn.model_selection import RandomizedSearchCV\n",
    "\n",
    "# Models\n",
    "from sklearn.neural_network import MLPRegressor\n",
    "\n",
    "# Load the dataset from Dataset folder\n",
    "og_df = pd.read_csv(dataset_path)\n",
    "df = pd.read_csv(dataset_path)"
   ]
  },
  {
   "cell_type": "markdown",
   "metadata": {},
   "source": [
    "## IV. Data Preprocessing and Cleaning\n"
   ]
  },
  {
   "cell_type": "code",
   "execution_count": 4,
   "metadata": {},
   "outputs": [
    {
     "name": "stdout",
     "output_type": "stream",
     "text": [
      "date                       0\n",
      "quarter                    0\n",
      "department                 0\n",
      "day                        0\n",
      "team                       0\n",
      "targeted_productivity      0\n",
      "smv                        0\n",
      "wip                      506\n",
      "over_time                  0\n",
      "incentive                  0\n",
      "idle_time                  0\n",
      "idle_men                   0\n",
      "no_of_style_change         0\n",
      "no_of_workers              0\n",
      "actual_productivity        0\n",
      "dtype: int64\n"
     ]
    }
   ],
   "source": [
    "# check for NaN values\n",
    "print(df.isnull().sum())"
   ]
  },
  {
   "cell_type": "code",
   "execution_count": 5,
   "metadata": {},
   "outputs": [],
   "source": [
    "# change all the NaN values to 0\n",
    "df = df.fillna(0)"
   ]
  },
  {
   "cell_type": "code",
   "execution_count": 6,
   "metadata": {},
   "outputs": [
    {
     "name": "stdout",
     "output_type": "stream",
     "text": [
      "['sweing' 'finishing ' 'finishing']\n",
      "['sewing' 'finishing']\n"
     ]
    }
   ],
   "source": [
    "# check department column\n",
    "print(df['department'].unique())\n",
    "\n",
    "# change all 'finishing ' to 'finishing'\n",
    "df['department'] = df['department'].replace('finishing ', 'finishing')\n",
    "df['department'] = df['department'].replace('sweing', 'sewing')\n",
    "print(df['department'].unique())"
   ]
  },
  {
   "cell_type": "code",
   "execution_count": 7,
   "metadata": {},
   "outputs": [
    {
     "name": "stdout",
     "output_type": "stream",
     "text": [
      "date                      object\n",
      "quarter                   object\n",
      "department                object\n",
      "day                       object\n",
      "team                       int64\n",
      "targeted_productivity    float64\n",
      "smv                      float64\n",
      "wip                      float64\n",
      "over_time                  int64\n",
      "incentive                  int64\n",
      "idle_time                float64\n",
      "idle_men                   int64\n",
      "no_of_style_change         int64\n",
      "no_of_workers            float64\n",
      "actual_productivity      float64\n",
      "dtype: object\n"
     ]
    }
   ],
   "source": [
    "#check datatypes for all columns\n",
    "print(df.dtypes)"
   ]
  },
  {
   "cell_type": "code",
   "execution_count": 8,
   "metadata": {},
   "outputs": [
    {
     "name": "stdout",
     "output_type": "stream",
     "text": [
      "department\n",
      "sewing       691\n",
      "finishing    506\n",
      "Name: count, dtype: int64\n"
     ]
    }
   ],
   "source": [
    "print(df['department'].value_counts())"
   ]
  },
  {
   "cell_type": "code",
   "execution_count": 9,
   "metadata": {},
   "outputs": [
    {
     "name": "stdout",
     "output_type": "stream",
     "text": [
      "quarter\n",
      "Quarter1    360\n",
      "Quarter2    335\n",
      "Quarter4    248\n",
      "Quarter3    210\n",
      "Quarter5     44\n",
      "Name: count, dtype: int64\n"
     ]
    }
   ],
   "source": [
    "print(df['quarter'].value_counts())"
   ]
  },
  {
   "cell_type": "code",
   "execution_count": 10,
   "metadata": {},
   "outputs": [
    {
     "name": "stdout",
     "output_type": "stream",
     "text": [
      "day\n",
      "Wednesday    208\n",
      "Sunday       203\n",
      "Tuesday      201\n",
      "Thursday     199\n",
      "Monday       199\n",
      "Saturday     187\n",
      "Name: count, dtype: int64\n"
     ]
    }
   ],
   "source": [
    "print(df['day'].value_counts())"
   ]
  },
  {
   "cell_type": "code",
   "execution_count": 11,
   "metadata": {},
   "outputs": [
    {
     "name": "stdout",
     "output_type": "stream",
     "text": [
      "team\n",
      "8     109\n",
      "2     109\n",
      "1     105\n",
      "4     105\n",
      "9     104\n",
      "10    100\n",
      "12     99\n",
      "7      96\n",
      "3      95\n",
      "6      94\n",
      "5      93\n",
      "11     88\n",
      "Name: count, dtype: int64\n"
     ]
    }
   ],
   "source": [
    "print(df['team'].value_counts())"
   ]
  },
  {
   "cell_type": "code",
   "execution_count": 12,
   "metadata": {},
   "outputs": [
    {
     "name": "stdout",
     "output_type": "stream",
     "text": [
      "targeted_productivity\n",
      "0.80    540\n",
      "0.70    242\n",
      "0.75    216\n",
      "0.65     63\n",
      "0.60     57\n",
      "0.50     49\n",
      "0.35     27\n",
      "0.40      2\n",
      "0.07      1\n",
      "Name: count, dtype: int64\n"
     ]
    }
   ],
   "source": [
    "print(df['targeted_productivity'].value_counts())"
   ]
  },
  {
   "cell_type": "code",
   "execution_count": 13,
   "metadata": {},
   "outputs": [
    {
     "name": "stdout",
     "output_type": "stream",
     "text": [
      "smv\n",
      "3.94     192\n",
      "2.90     108\n",
      "22.52    103\n",
      "30.10     79\n",
      "4.15      76\n",
      "        ... \n",
      "48.68      1\n",
      "54.56      1\n",
      "41.19      1\n",
      "49.10      1\n",
      "40.99      1\n",
      "Name: count, Length: 70, dtype: int64\n"
     ]
    }
   ],
   "source": [
    "print(df['smv'].value_counts())"
   ]
  },
  {
   "cell_type": "code",
   "execution_count": 14,
   "metadata": {},
   "outputs": [
    {
     "name": "stdout",
     "output_type": "stream",
     "text": [
      "wip\n",
      "0.0       506\n",
      "1039.0      5\n",
      "1282.0      4\n",
      "1422.0      3\n",
      "1216.0      3\n",
      "         ... \n",
      "1635.0      1\n",
      "1519.0      1\n",
      "1337.0      1\n",
      "1118.0      1\n",
      "914.0       1\n",
      "Name: count, Length: 549, dtype: int64\n"
     ]
    }
   ],
   "source": [
    "print(df['wip'].value_counts())"
   ]
  },
  {
   "cell_type": "code",
   "execution_count": 15,
   "metadata": {},
   "outputs": [
    {
     "name": "stdout",
     "output_type": "stream",
     "text": [
      "           date   quarter department        day  team  targeted_productivity  \\\n",
      "1      1/1/2015  Quarter1  finishing   Thursday     1                   0.75   \n",
      "6      1/1/2015  Quarter1  finishing   Thursday     2                   0.75   \n",
      "13     1/1/2015  Quarter1  finishing   Thursday    10                   0.65   \n",
      "14     1/1/2015  Quarter1  finishing   Thursday     8                   0.75   \n",
      "15     1/1/2015  Quarter1  finishing   Thursday     4                   0.75   \n",
      "...         ...       ...        ...        ...   ...                    ...   \n",
      "1192  3/11/2015  Quarter2  finishing  Wednesday    10                   0.75   \n",
      "1193  3/11/2015  Quarter2  finishing  Wednesday     8                   0.70   \n",
      "1194  3/11/2015  Quarter2  finishing  Wednesday     7                   0.65   \n",
      "1195  3/11/2015  Quarter2  finishing  Wednesday     9                   0.75   \n",
      "1196  3/11/2015  Quarter2  finishing  Wednesday     6                   0.70   \n",
      "\n",
      "       smv  wip  over_time  incentive  idle_time  idle_men  \\\n",
      "1     3.94  0.0        960          0        0.0         0   \n",
      "6     3.94  0.0        960          0        0.0         0   \n",
      "13    3.94  0.0        960          0        0.0         0   \n",
      "14    2.90  0.0        960          0        0.0         0   \n",
      "15    3.94  0.0       2160          0        0.0         0   \n",
      "...    ...  ...        ...        ...        ...       ...   \n",
      "1192  2.90  0.0        960          0        0.0         0   \n",
      "1193  3.90  0.0        960          0        0.0         0   \n",
      "1194  3.90  0.0        960          0        0.0         0   \n",
      "1195  2.90  0.0       1800          0        0.0         0   \n",
      "1196  2.90  0.0        720          0        0.0         0   \n",
      "\n",
      "      no_of_style_change  no_of_workers  actual_productivity  \n",
      "1                      0            8.0             0.886500  \n",
      "6                      0            8.0             0.755167  \n",
      "13                     0            8.0             0.705917  \n",
      "14                     0            8.0             0.676667  \n",
      "15                     0           18.0             0.593056  \n",
      "...                  ...            ...                  ...  \n",
      "1192                   0            8.0             0.628333  \n",
      "1193                   0            8.0             0.625625  \n",
      "1194                   0            8.0             0.625625  \n",
      "1195                   0           15.0             0.505889  \n",
      "1196                   0            6.0             0.394722  \n",
      "\n",
      "[506 rows x 15 columns]\n"
     ]
    }
   ],
   "source": [
    "# get all rows with 0 wip\n",
    "print(df[df['wip'] == 0])"
   ]
  },
  {
   "cell_type": "code",
   "execution_count": 16,
   "metadata": {},
   "outputs": [
    {
     "name": "stdout",
     "output_type": "stream",
     "text": [
      "over_time\n",
      "960      129\n",
      "1440     111\n",
      "6960      61\n",
      "6840      48\n",
      "1200      39\n",
      "        ... \n",
      "4140       1\n",
      "12180      1\n",
      "10770      1\n",
      "12000      1\n",
      "3120       1\n",
      "Name: count, Length: 143, dtype: int64\n"
     ]
    }
   ],
   "source": [
    "print(df['over_time'].value_counts())"
   ]
  },
  {
   "cell_type": "code",
   "execution_count": 17,
   "metadata": {},
   "outputs": [
    {
     "name": "stdout",
     "output_type": "stream",
     "text": [
      "Empty DataFrame\n",
      "Columns: [date, quarter, department, day, team, targeted_productivity, smv, wip, over_time, incentive, idle_time, idle_men, no_of_style_change, no_of_workers, actual_productivity]\n",
      "Index: []\n"
     ]
    }
   ],
   "source": [
    "# print incentives with less than 0 \n",
    "print(df[df['incentive'] < 0])"
   ]
  },
  {
   "cell_type": "code",
   "execution_count": 18,
   "metadata": {},
   "outputs": [
    {
     "name": "stdout",
     "output_type": "stream",
     "text": [
      "idle_time\n",
      "0.0      1179\n",
      "3.5         3\n",
      "2.0         2\n",
      "5.0         2\n",
      "8.0         2\n",
      "4.5         2\n",
      "4.0         2\n",
      "90.0        1\n",
      "150.0       1\n",
      "270.0       1\n",
      "300.0       1\n",
      "6.5         1\n",
      "Name: count, dtype: int64\n"
     ]
    }
   ],
   "source": [
    "print(df['idle_time'].value_counts())"
   ]
  },
  {
   "cell_type": "code",
   "execution_count": 19,
   "metadata": {},
   "outputs": [
    {
     "name": "stdout",
     "output_type": "stream",
     "text": [
      "idle_men\n",
      "0     1179\n",
      "10       3\n",
      "15       3\n",
      "30       3\n",
      "20       3\n",
      "35       2\n",
      "45       1\n",
      "37       1\n",
      "25       1\n",
      "40       1\n",
      "Name: count, dtype: int64\n"
     ]
    }
   ],
   "source": [
    "print(df['idle_men'].value_counts())"
   ]
  },
  {
   "cell_type": "code",
   "execution_count": 20,
   "metadata": {},
   "outputs": [
    {
     "name": "stdout",
     "output_type": "stream",
     "text": [
      "no_of_style_change\n",
      "0    1050\n",
      "1     114\n",
      "2      33\n",
      "Name: count, dtype: int64\n"
     ]
    }
   ],
   "source": [
    "print(df['no_of_style_change'].value_counts())"
   ]
  },
  {
   "cell_type": "code",
   "execution_count": 21,
   "metadata": {},
   "outputs": [
    {
     "name": "stdout",
     "output_type": "stream",
     "text": [
      "0    59.0\n",
      "1     8.0\n",
      "2    30.5\n",
      "3    30.5\n",
      "4    56.0\n",
      "Name: no_of_workers, dtype: float64\n",
      "0    59.0\n",
      "1     8.0\n",
      "2    30.0\n",
      "3    30.0\n",
      "4    56.0\n",
      "Name: no_of_workers, dtype: float64\n"
     ]
    }
   ],
   "source": [
    "print(df['no_of_workers'].head())\n",
    "# round down the no_of_workers\n",
    "df['no_of_workers'] = np.floor(df['no_of_workers'])\n",
    "print(df['no_of_workers'].head())"
   ]
  },
  {
   "cell_type": "code",
   "execution_count": 22,
   "metadata": {},
   "outputs": [
    {
     "name": "stdout",
     "output_type": "stream",
     "text": [
      "actual_productivity\n",
      "0.800402    24\n",
      "0.971867    12\n",
      "0.850137    12\n",
      "0.750651    11\n",
      "0.850502    11\n",
      "            ..\n",
      "0.800034     1\n",
      "0.800024     1\n",
      "0.769293     1\n",
      "0.750031     1\n",
      "0.394722     1\n",
      "Name: count, Length: 879, dtype: int64\n",
      "          date   quarter department        day  team  targeted_productivity  \\\n",
      "337  1/20/2015  Quarter3  finishing    Tuesday     5                   0.70   \n",
      "437  1/26/2015  Quarter4  finishing     Monday     3                   0.75   \n",
      "456  1/27/2015  Quarter4     sewing    Tuesday     2                   0.75   \n",
      "457  1/27/2015  Quarter4     sewing    Tuesday     3                   0.75   \n",
      "477  1/28/2015  Quarter4     sewing  Wednesday     2                   0.80   \n",
      "478  1/28/2015  Quarter4     sewing  Wednesday     3                   0.80   \n",
      "498  1/29/2015  Quarter5     sewing   Thursday     2                   0.80   \n",
      "518  1/31/2015  Quarter5     sewing   Saturday     3                   0.80   \n",
      "519  1/31/2015  Quarter5     sewing   Saturday     2                   0.80   \n",
      "542   2/1/2015  Quarter1  finishing     Sunday     8                   0.65   \n",
      "543   2/1/2015  Quarter1     sewing     Sunday     2                   0.80   \n",
      "544   2/1/2015  Quarter1     sewing     Sunday     1                   0.80   \n",
      "561   2/2/2015  Quarter1     sewing     Monday     1                   0.80   \n",
      "580   2/3/2015  Quarter1  finishing    Tuesday     2                   0.80   \n",
      "581   2/3/2015  Quarter1     sewing    Tuesday     1                   0.80   \n",
      "599   2/4/2015  Quarter1     sewing  Wednesday     2                   0.80   \n",
      "600   2/4/2015  Quarter1     sewing  Wednesday     3                   0.80   \n",
      "618   2/5/2015  Quarter1     sewing   Thursday     2                   0.80   \n",
      "619   2/5/2015  Quarter1     sewing   Thursday     1                   0.80   \n",
      "636   2/7/2015  Quarter1  finishing   Saturday     2                   0.80   \n",
      "637   2/7/2015  Quarter1     sewing   Saturday     2                   0.80   \n",
      "655   2/8/2015  Quarter2     sewing     Sunday     2                   0.80   \n",
      "674   2/9/2015  Quarter2  finishing     Monday     2                   0.80   \n",
      "692  2/10/2015  Quarter2  finishing    Tuesday    12                   0.80   \n",
      "711  2/11/2015  Quarter2  finishing  Wednesday     4                   0.70   \n",
      "712  2/11/2015  Quarter2  finishing  Wednesday    12                   0.80   \n",
      "713  2/11/2015  Quarter2     sewing  Wednesday     2                   0.80   \n",
      "714  2/11/2015  Quarter2     sewing  Wednesday     1                   0.80   \n",
      "730  2/12/2015  Quarter2     sewing   Thursday     1                   0.80   \n",
      "731  2/12/2015  Quarter2  finishing   Thursday     4                   0.70   \n",
      "732  2/12/2015  Quarter2     sewing   Thursday     2                   0.80   \n",
      "749  2/14/2015  Quarter2     sewing   Saturday     1                   0.80   \n",
      "766  2/15/2015  Quarter3  finishing     Sunday     1                   0.80   \n",
      "767  2/15/2015  Quarter3  finishing     Sunday     2                   0.80   \n",
      "768  2/15/2015  Quarter3     sewing     Sunday     1                   0.80   \n",
      "785  2/16/2015  Quarter3     sewing     Monday     1                   0.80   \n",
      "803  2/17/2015  Quarter3     sewing    Tuesday     1                   0.80   \n",
      "\n",
      "       smv      wip  over_time  incentive  idle_time  idle_men  \\\n",
      "337   4.15      0.0       1440          0        0.0         0   \n",
      "437   3.94      0.0       1800          0        0.0         0   \n",
      "456  22.52   1635.0       6840        119        0.0         0   \n",
      "457  22.52   1299.0       6840        119        0.0         0   \n",
      "477  22.52   1559.0       6840         90        0.0         0   \n",
      "478  22.52   1350.0       6840        113        0.0         0   \n",
      "498  22.52   1416.0       6840        113        0.0         0   \n",
      "518  22.52   1136.0       6960        113        0.0         0   \n",
      "519  22.52   1397.0       6840        113        0.0         0   \n",
      "542   4.15      0.0        960          0        0.0         0   \n",
      "543  22.52   1396.0       6900        113        0.0         0   \n",
      "544  22.94   1582.0       3060        113        0.0         0   \n",
      "561  22.94  16882.0       7020        113        0.0         0   \n",
      "580   3.94      0.0       2400          0        0.0         0   \n",
      "581  22.52   1500.0       6900        113        0.0         0   \n",
      "599  22.52   1263.0       6900        100        0.0         0   \n",
      "600  22.52    968.0       6840        113        0.0         0   \n",
      "618  22.52   1300.0       6780        113        0.0         0   \n",
      "619  22.52   1485.0       6900        113        0.0         0   \n",
      "636   3.94      0.0       3000          0        0.0         0   \n",
      "637  22.52   1186.0       6900        113        0.0         0   \n",
      "655  22.52   1233.0       6900        113        0.0         0   \n",
      "674   3.94      0.0       2160          0        0.0         0   \n",
      "692   4.08      0.0       1080          0        0.0         0   \n",
      "711   4.15      0.0       1800          0        0.0         0   \n",
      "712   4.08      0.0       1080          0        0.0         0   \n",
      "713  22.52   1557.0          0         90        0.0         0   \n",
      "714  22.52   1498.0          0        113        0.0         0   \n",
      "730  22.52   1397.0          0        138        0.0         0   \n",
      "731   4.15      0.0       1800          0        0.0         0   \n",
      "732  22.52   1327.0          0        113        0.0         0   \n",
      "749  22.52   1416.0       6840        113        0.0         0   \n",
      "766   3.94      0.0        960          0        0.0         0   \n",
      "767   3.94      0.0        960          0        0.0         0   \n",
      "768  22.52   1420.0       6840        113        0.0         0   \n",
      "785  22.52   1422.0       6840        113        0.0         0   \n",
      "803  22.52   1445.0       6840        113        0.0         0   \n",
      "\n",
      "     no_of_style_change  no_of_workers  actual_productivity  \n",
      "337                   0            8.0             1.033570  \n",
      "437                   0           10.0             1.059621  \n",
      "456                   0           57.0             1.000230  \n",
      "457                   0           57.0             1.000230  \n",
      "477                   0           57.0             1.000230  \n",
      "478                   0           57.0             1.000230  \n",
      "498                   0           57.0             1.000230  \n",
      "518                   0           58.0             1.000457  \n",
      "519                   0           57.0             1.000230  \n",
      "542                   0            8.0             1.011562  \n",
      "543                   0           57.0             1.000671  \n",
      "544                   0           58.0             1.000402  \n",
      "561                   0           58.0             1.000602  \n",
      "580                   0           20.0             1.001417  \n",
      "581                   0           57.0             1.000019  \n",
      "599                   0           57.0             1.050281  \n",
      "600                   0           57.0             1.000230  \n",
      "618                   0           56.0             1.000446  \n",
      "619                   0           57.0             1.000019  \n",
      "636                   0           25.0             1.050667  \n",
      "637                   0           58.0             1.000019  \n",
      "655                   0           57.0             1.000019  \n",
      "674                   0           18.0             1.057963  \n",
      "692                   0            9.0             1.004889  \n",
      "711                   0           15.0             1.033156  \n",
      "712                   0            9.0             1.020000  \n",
      "713                   0           57.0             1.000345  \n",
      "714                   0           57.0             1.000066  \n",
      "730                   0           57.0             1.100484  \n",
      "731                   0           15.0             1.096633  \n",
      "732                   0           57.0             1.000345  \n",
      "749                   0           57.0             1.000230  \n",
      "766                   0            8.0             1.120437  \n",
      "767                   0            8.0             1.108125  \n",
      "768                   0           57.0             1.000230  \n",
      "785                   0           57.0             1.000230  \n",
      "803                   0           57.0             1.000230  \n"
     ]
    }
   ],
   "source": [
    "print(df['actual_productivity'].value_counts())\n",
    "# print actual_productivity where it is < 0 or > 1\n",
    "print(df[(df['actual_productivity'] < 0) | (df['actual_productivity'] > 1)])"
   ]
  },
  {
   "cell_type": "code",
   "execution_count": 23,
   "metadata": {},
   "outputs": [
    {
     "name": "stdout",
     "output_type": "stream",
     "text": [
      "Empty DataFrame\n",
      "Columns: [date, quarter, department, day, team, targeted_productivity, smv, wip, over_time, incentive, idle_time, idle_men, no_of_style_change, no_of_workers, actual_productivity]\n",
      "Index: []\n"
     ]
    }
   ],
   "source": [
    "# round down the actual_productivity if it is > 1\n",
    "df['actual_productivity'] = np.where(df['actual_productivity'] > 1, 1, df['actual_productivity'])\n",
    "print(df[(df['actual_productivity'] < 0) | (df['actual_productivity'] > 1)])"
   ]
  },
  {
   "cell_type": "code",
   "execution_count": 24,
   "metadata": {},
   "outputs": [],
   "source": [
    "#drop date\n",
    "df = df.drop('date', axis=1)"
   ]
  },
  {
   "cell_type": "code",
   "execution_count": 25,
   "metadata": {},
   "outputs": [
    {
     "name": "stdout",
     "output_type": "stream",
     "text": [
      "0\n"
     ]
    }
   ],
   "source": [
    "# check for duplicates\n",
    "print(df.duplicated().sum())"
   ]
  },
  {
   "cell_type": "code",
   "execution_count": 26,
   "metadata": {},
   "outputs": [
    {
     "name": "stdout",
     "output_type": "stream",
     "text": [
      "Empty DataFrame\n",
      "Columns: [quarter, department, day, team, targeted_productivity, smv, wip, over_time, incentive, idle_time, idle_men, no_of_style_change, no_of_workers, actual_productivity]\n",
      "Index: []\n"
     ]
    }
   ],
   "source": [
    "#check if any numerical value is less than 0\n",
    "print(df[(df.select_dtypes(include=[np.number]) < 0).any(axis=1)])"
   ]
  },
  {
   "cell_type": "code",
   "execution_count": 27,
   "metadata": {},
   "outputs": [
    {
     "name": "stdout",
     "output_type": "stream",
     "text": [
      "quarter                   object\n",
      "department                object\n",
      "day                       object\n",
      "team                       int64\n",
      "targeted_productivity    float64\n",
      "smv                      float64\n",
      "wip                      float64\n",
      "over_time                  int64\n",
      "incentive                  int64\n",
      "idle_time                float64\n",
      "idle_men                   int64\n",
      "no_of_style_change         int64\n",
      "no_of_workers            float64\n",
      "actual_productivity      float64\n",
      "dtype: object\n"
     ]
    }
   ],
   "source": [
    "# print all datatypes\n",
    "print(df.dtypes)"
   ]
  },
  {
   "cell_type": "code",
   "execution_count": 28,
   "metadata": {},
   "outputs": [
    {
     "name": "stdout",
     "output_type": "stream",
     "text": [
      "(490, 15)\n",
      "(70, 15)\n",
      "(16, 15)\n",
      "(2, 15)\n"
     ]
    }
   ],
   "source": [
    "# calculate overtime per worker\n",
    "df['overtime_per_worker'] = df['over_time'] / df['no_of_workers']\n",
    "print(df[df['overtime_per_worker'] > 120].shape)\n",
    "print(df[df['overtime_per_worker'] > 240].shape)\n",
    "print(df[df['overtime_per_worker'] > 420].shape)\n",
    "print(df[df['overtime_per_worker'] > 600].shape)"
   ]
  },
  {
   "cell_type": "code",
   "execution_count": 29,
   "metadata": {},
   "outputs": [
    {
     "name": "stdout",
     "output_type": "stream",
     "text": [
      "Empty DataFrame\n",
      "Columns: [quarter, department, day, team, targeted_productivity, smv, wip, over_time, incentive, idle_time, idle_men, no_of_style_change, no_of_workers, actual_productivity, overtime_per_worker]\n",
      "Index: []\n"
     ]
    }
   ],
   "source": [
    "# print all idle_men with decimal values\n",
    "print(df[df['idle_men'] % 1 != 0])"
   ]
  },
  {
   "cell_type": "code",
   "execution_count": 30,
   "metadata": {},
   "outputs": [
    {
     "name": "stdout",
     "output_type": "stream",
     "text": [
      "Empty DataFrame\n",
      "Columns: [quarter, department, day, team, targeted_productivity, smv, wip, over_time, incentive, idle_time, idle_men, no_of_style_change, no_of_workers, actual_productivity, overtime_per_worker]\n",
      "Index: []\n"
     ]
    }
   ],
   "source": [
    "#print all rows with idle time = 0 and idle_men > 0\n",
    "print(df[(df['idle_time'] == 0) & (df['idle_men'] > 0)])"
   ]
  },
  {
   "cell_type": "code",
   "execution_count": 31,
   "metadata": {},
   "outputs": [
    {
     "name": "stdout",
     "output_type": "stream",
     "text": [
      "team                       int64\n",
      "targeted_productivity    float64\n",
      "smv                      float64\n",
      "wip                      float64\n",
      "over_time                  int64\n",
      "incentive                  int64\n",
      "idle_time                float64\n",
      "idle_men                   int64\n",
      "no_of_style_change         int64\n",
      "no_of_workers            float64\n",
      "actual_productivity      float64\n",
      "overtime_per_worker      float64\n",
      "department_finishing        bool\n",
      "department_sewing           bool\n",
      "day_Monday                  bool\n",
      "day_Saturday                bool\n",
      "day_Sunday                  bool\n",
      "day_Thursday                bool\n",
      "day_Tuesday                 bool\n",
      "day_Wednesday               bool\n",
      "quarter_Quarter1            bool\n",
      "quarter_Quarter2            bool\n",
      "quarter_Quarter3            bool\n",
      "quarter_Quarter4            bool\n",
      "quarter_Quarter5            bool\n",
      "dtype: object\n"
     ]
    }
   ],
   "source": [
    "# turn department, day, and quarter into one-hot encoding\n",
    "df = pd.get_dummies(df, columns=['department', 'day', 'quarter'])\n",
    "# print all datatypes\n",
    "print(df.dtypes)"
   ]
  },
  {
   "cell_type": "code",
   "execution_count": 32,
   "metadata": {},
   "outputs": [
    {
     "name": "stdout",
     "output_type": "stream",
     "text": [
      "      targeted_productivity  idle_men  idle_time  actual_productivity  \\\n",
      "1                      0.75         0        0.0             0.886500   \n",
      "6                      0.75         0        0.0             0.755167   \n",
      "13                     0.65         0        0.0             0.705917   \n",
      "14                     0.75         0        0.0             0.676667   \n",
      "15                     0.75         0        0.0             0.593056   \n",
      "...                     ...       ...        ...                  ...   \n",
      "1192                   0.75         0        0.0             0.628333   \n",
      "1193                   0.70         0        0.0             0.625625   \n",
      "1194                   0.65         0        0.0             0.625625   \n",
      "1195                   0.75         0        0.0             0.505889   \n",
      "1196                   0.70         0        0.0             0.394722   \n",
      "\n",
      "      incentive  over_time  wip   smv  \n",
      "1             0        960  0.0  3.94  \n",
      "6             0        960  0.0  3.94  \n",
      "13            0        960  0.0  3.94  \n",
      "14            0        960  0.0  2.90  \n",
      "15            0       2160  0.0  3.94  \n",
      "...         ...        ...  ...   ...  \n",
      "1192          0        960  0.0  2.90  \n",
      "1193          0        960  0.0  3.90  \n",
      "1194          0        960  0.0  3.90  \n",
      "1195          0       1800  0.0  2.90  \n",
      "1196          0        720  0.0  2.90  \n",
      "\n",
      "[600 rows x 8 columns]\n"
     ]
    }
   ],
   "source": [
    "#check for days where there are no incentives but have overtime (trim to targeted_productivity, idle_men, idle_time, and actual_productivity)\n",
    "print(df[(df['incentive'] == 0) & (df['over_time'] > 0)][['targeted_productivity', 'idle_men', 'idle_time', 'actual_productivity', 'incentive', 'over_time', 'wip', 'smv']])\n",
    "\n",
    "# TODO SOMETHING HERE"
   ]
  },
  {
   "cell_type": "code",
   "execution_count": 33,
   "metadata": {},
   "outputs": [
    {
     "name": "stdout",
     "output_type": "stream",
     "text": [
      "      targeted_productivity  idle_men  idle_time  actual_productivity  \\\n",
      "0                      0.80         0        0.0             0.940725   \n",
      "2                      0.80         0        0.0             0.800570   \n",
      "3                      0.80         0        0.0             0.800570   \n",
      "4                      0.80         0        0.0             0.800382   \n",
      "5                      0.80         0        0.0             0.800125   \n",
      "...                     ...       ...        ...                  ...   \n",
      "1187                   0.75         0        0.0             0.750051   \n",
      "1188                   0.70         0        0.0             0.700557   \n",
      "1189                   0.70         0        0.0             0.700505   \n",
      "1190                   0.70         0        0.0             0.700246   \n",
      "1191                   0.65         0        0.0             0.650596   \n",
      "\n",
      "      incentive  over_time     wip    smv  \n",
      "0            98       7080  1108.0  26.16  \n",
      "2            50       3660   968.0  11.41  \n",
      "3            50       3660   968.0  11.41  \n",
      "4            50       1920  1170.0  25.90  \n",
      "5            38       6720   984.0  25.90  \n",
      "...         ...        ...     ...    ...  \n",
      "1187         45       7080  1054.0  26.82  \n",
      "1188         30       6960   992.0  26.82  \n",
      "1189         30       6840   914.0  30.48  \n",
      "1190         40       4560  1128.0  23.41  \n",
      "1191         26       6840   935.0  30.48  \n",
      "\n",
      "[566 rows x 8 columns]\n"
     ]
    }
   ],
   "source": [
    "#check overtime and incentive relationship\n",
    "print(df[(df['incentive'] > 0) & (df['over_time'] > 0)][['targeted_productivity', 'idle_men', 'idle_time', 'actual_productivity', 'incentive', 'over_time', 'wip', 'smv']])"
   ]
  },
  {
   "cell_type": "code",
   "execution_count": 34,
   "metadata": {},
   "outputs": [
    {
     "name": "stdout",
     "output_type": "stream",
     "text": [
      "<class 'pandas.core.frame.DataFrame'>\n",
      "RangeIndex: 1197 entries, 0 to 1196\n",
      "Data columns (total 25 columns):\n",
      " #   Column                 Non-Null Count  Dtype  \n",
      "---  ------                 --------------  -----  \n",
      " 0   team                   1197 non-null   int64  \n",
      " 1   targeted_productivity  1197 non-null   float64\n",
      " 2   smv                    1197 non-null   float64\n",
      " 3   wip                    1197 non-null   float64\n",
      " 4   over_time              1197 non-null   int64  \n",
      " 5   incentive              1197 non-null   int64  \n",
      " 6   idle_time              1197 non-null   float64\n",
      " 7   idle_men               1197 non-null   int64  \n",
      " 8   no_of_style_change     1197 non-null   int64  \n",
      " 9   no_of_workers          1197 non-null   float64\n",
      " 10  actual_productivity    1197 non-null   float64\n",
      " 11  overtime_per_worker    1197 non-null   float64\n",
      " 12  department_finishing   1197 non-null   bool   \n",
      " 13  department_sewing      1197 non-null   bool   \n",
      " 14  day_Monday             1197 non-null   bool   \n",
      " 15  day_Saturday           1197 non-null   bool   \n",
      " 16  day_Sunday             1197 non-null   bool   \n",
      " 17  day_Thursday           1197 non-null   bool   \n",
      " 18  day_Tuesday            1197 non-null   bool   \n",
      " 19  day_Wednesday          1197 non-null   bool   \n",
      " 20  quarter_Quarter1       1197 non-null   bool   \n",
      " 21  quarter_Quarter2       1197 non-null   bool   \n",
      " 22  quarter_Quarter3       1197 non-null   bool   \n",
      " 23  quarter_Quarter4       1197 non-null   bool   \n",
      " 24  quarter_Quarter5       1197 non-null   bool   \n",
      "dtypes: bool(13), float64(7), int64(5)\n",
      "memory usage: 127.5 KB\n",
      "None\n"
     ]
    }
   ],
   "source": [
    "#check cleaned dataset\n",
    "print(df.info())"
   ]
  },
  {
   "cell_type": "markdown",
   "metadata": {},
   "source": [
    "# V. Exploratory Data Analysis"
   ]
  },
  {
   "cell_type": "markdown",
   "metadata": {},
   "source": [
    "## V-A. <EDA 1> (Seal)"
   ]
  },
  {
   "cell_type": "markdown",
   "metadata": {},
   "source": [
    "## V-B. <EDA 2> (Orrin)"
   ]
  },
  {
   "cell_type": "markdown",
   "metadata": {},
   "source": [
    "## V-C. Day of the Week and Quarter of the Month to Actual Productivity (Tean)"
   ]
  },
  {
   "cell_type": "markdown",
   "metadata": {},
   "source": [
    "### Description"
   ]
  },
  {
   "cell_type": "markdown",
   "metadata": {},
   "source": [
    "In the Philippines, a company typically pays its workers at the end of the 2nd and 4th week of every month. With this, it can be speculated that the actual productivity of the workers will be affected when in the proximity of those times as they anticipate receiving their paychecks. Additionally, with the chosen representation, it will also be possible to analyze actual productivity as the month goes by."
   ]
  },
  {
   "cell_type": "markdown",
   "metadata": {},
   "source": [
    "Relevant fields of the EDA:\n",
    "\n",
    "Days of the Week:\n",
    "- 'day_Monday'\n",
    "- 'day_Tuesday'\n",
    "- 'day_Wednesday'\n",
    "- 'day_Thursday'\n",
    "- 'day_Saturday'\n",
    "- 'day_Sunday'\n",
    "\n",
    "Quarters of the Month:\n",
    "- 'quarter_Quarter1'\n",
    "- 'quarter_Quarter2'\n",
    "- 'quarter_Quarter3'\n",
    "- 'quarter_Quarter4'\n",
    "- 'quarter_Quarter5'\n",
    "\n",
    "Actual Productivity:\n",
    "- 'actual_productivity'"
   ]
  },
  {
   "cell_type": "markdown",
   "metadata": {},
   "source": [
    "### Data Transformation"
   ]
  },
  {
   "cell_type": "markdown",
   "metadata": {},
   "source": [
    "Seclude the relevant fields for the EDA."
   ]
  },
  {
   "cell_type": "code",
   "execution_count": 36,
   "metadata": {},
   "outputs": [
    {
     "data": {
      "text/html": [
       "<div>\n",
       "<style scoped>\n",
       "    .dataframe tbody tr th:only-of-type {\n",
       "        vertical-align: middle;\n",
       "    }\n",
       "\n",
       "    .dataframe tbody tr th {\n",
       "        vertical-align: top;\n",
       "    }\n",
       "\n",
       "    .dataframe thead th {\n",
       "        text-align: right;\n",
       "    }\n",
       "</style>\n",
       "<table border=\"1\" class=\"dataframe\">\n",
       "  <thead>\n",
       "    <tr style=\"text-align: right;\">\n",
       "      <th></th>\n",
       "      <th>day_Monday</th>\n",
       "      <th>day_Tuesday</th>\n",
       "      <th>day_Wednesday</th>\n",
       "      <th>day_Thursday</th>\n",
       "      <th>day_Saturday</th>\n",
       "      <th>day_Sunday</th>\n",
       "      <th>quarter_Quarter1</th>\n",
       "      <th>quarter_Quarter2</th>\n",
       "      <th>quarter_Quarter3</th>\n",
       "      <th>quarter_Quarter4</th>\n",
       "      <th>quarter_Quarter5</th>\n",
       "      <th>actual_productivity</th>\n",
       "    </tr>\n",
       "  </thead>\n",
       "  <tbody>\n",
       "    <tr>\n",
       "      <th>0</th>\n",
       "      <td>False</td>\n",
       "      <td>False</td>\n",
       "      <td>False</td>\n",
       "      <td>True</td>\n",
       "      <td>False</td>\n",
       "      <td>False</td>\n",
       "      <td>True</td>\n",
       "      <td>False</td>\n",
       "      <td>False</td>\n",
       "      <td>False</td>\n",
       "      <td>False</td>\n",
       "      <td>0.940725</td>\n",
       "    </tr>\n",
       "    <tr>\n",
       "      <th>1</th>\n",
       "      <td>False</td>\n",
       "      <td>False</td>\n",
       "      <td>False</td>\n",
       "      <td>True</td>\n",
       "      <td>False</td>\n",
       "      <td>False</td>\n",
       "      <td>True</td>\n",
       "      <td>False</td>\n",
       "      <td>False</td>\n",
       "      <td>False</td>\n",
       "      <td>False</td>\n",
       "      <td>0.886500</td>\n",
       "    </tr>\n",
       "    <tr>\n",
       "      <th>2</th>\n",
       "      <td>False</td>\n",
       "      <td>False</td>\n",
       "      <td>False</td>\n",
       "      <td>True</td>\n",
       "      <td>False</td>\n",
       "      <td>False</td>\n",
       "      <td>True</td>\n",
       "      <td>False</td>\n",
       "      <td>False</td>\n",
       "      <td>False</td>\n",
       "      <td>False</td>\n",
       "      <td>0.800570</td>\n",
       "    </tr>\n",
       "    <tr>\n",
       "      <th>3</th>\n",
       "      <td>False</td>\n",
       "      <td>False</td>\n",
       "      <td>False</td>\n",
       "      <td>True</td>\n",
       "      <td>False</td>\n",
       "      <td>False</td>\n",
       "      <td>True</td>\n",
       "      <td>False</td>\n",
       "      <td>False</td>\n",
       "      <td>False</td>\n",
       "      <td>False</td>\n",
       "      <td>0.800570</td>\n",
       "    </tr>\n",
       "    <tr>\n",
       "      <th>4</th>\n",
       "      <td>False</td>\n",
       "      <td>False</td>\n",
       "      <td>False</td>\n",
       "      <td>True</td>\n",
       "      <td>False</td>\n",
       "      <td>False</td>\n",
       "      <td>True</td>\n",
       "      <td>False</td>\n",
       "      <td>False</td>\n",
       "      <td>False</td>\n",
       "      <td>False</td>\n",
       "      <td>0.800382</td>\n",
       "    </tr>\n",
       "    <tr>\n",
       "      <th>...</th>\n",
       "      <td>...</td>\n",
       "      <td>...</td>\n",
       "      <td>...</td>\n",
       "      <td>...</td>\n",
       "      <td>...</td>\n",
       "      <td>...</td>\n",
       "      <td>...</td>\n",
       "      <td>...</td>\n",
       "      <td>...</td>\n",
       "      <td>...</td>\n",
       "      <td>...</td>\n",
       "      <td>...</td>\n",
       "    </tr>\n",
       "    <tr>\n",
       "      <th>1192</th>\n",
       "      <td>False</td>\n",
       "      <td>False</td>\n",
       "      <td>True</td>\n",
       "      <td>False</td>\n",
       "      <td>False</td>\n",
       "      <td>False</td>\n",
       "      <td>False</td>\n",
       "      <td>True</td>\n",
       "      <td>False</td>\n",
       "      <td>False</td>\n",
       "      <td>False</td>\n",
       "      <td>0.628333</td>\n",
       "    </tr>\n",
       "    <tr>\n",
       "      <th>1193</th>\n",
       "      <td>False</td>\n",
       "      <td>False</td>\n",
       "      <td>True</td>\n",
       "      <td>False</td>\n",
       "      <td>False</td>\n",
       "      <td>False</td>\n",
       "      <td>False</td>\n",
       "      <td>True</td>\n",
       "      <td>False</td>\n",
       "      <td>False</td>\n",
       "      <td>False</td>\n",
       "      <td>0.625625</td>\n",
       "    </tr>\n",
       "    <tr>\n",
       "      <th>1194</th>\n",
       "      <td>False</td>\n",
       "      <td>False</td>\n",
       "      <td>True</td>\n",
       "      <td>False</td>\n",
       "      <td>False</td>\n",
       "      <td>False</td>\n",
       "      <td>False</td>\n",
       "      <td>True</td>\n",
       "      <td>False</td>\n",
       "      <td>False</td>\n",
       "      <td>False</td>\n",
       "      <td>0.625625</td>\n",
       "    </tr>\n",
       "    <tr>\n",
       "      <th>1195</th>\n",
       "      <td>False</td>\n",
       "      <td>False</td>\n",
       "      <td>True</td>\n",
       "      <td>False</td>\n",
       "      <td>False</td>\n",
       "      <td>False</td>\n",
       "      <td>False</td>\n",
       "      <td>True</td>\n",
       "      <td>False</td>\n",
       "      <td>False</td>\n",
       "      <td>False</td>\n",
       "      <td>0.505889</td>\n",
       "    </tr>\n",
       "    <tr>\n",
       "      <th>1196</th>\n",
       "      <td>False</td>\n",
       "      <td>False</td>\n",
       "      <td>True</td>\n",
       "      <td>False</td>\n",
       "      <td>False</td>\n",
       "      <td>False</td>\n",
       "      <td>False</td>\n",
       "      <td>True</td>\n",
       "      <td>False</td>\n",
       "      <td>False</td>\n",
       "      <td>False</td>\n",
       "      <td>0.394722</td>\n",
       "    </tr>\n",
       "  </tbody>\n",
       "</table>\n",
       "<p>1197 rows × 12 columns</p>\n",
       "</div>"
      ],
      "text/plain": [
       "      day_Monday  day_Tuesday  day_Wednesday  day_Thursday  day_Saturday  \\\n",
       "0          False        False          False          True         False   \n",
       "1          False        False          False          True         False   \n",
       "2          False        False          False          True         False   \n",
       "3          False        False          False          True         False   \n",
       "4          False        False          False          True         False   \n",
       "...          ...          ...            ...           ...           ...   \n",
       "1192       False        False           True         False         False   \n",
       "1193       False        False           True         False         False   \n",
       "1194       False        False           True         False         False   \n",
       "1195       False        False           True         False         False   \n",
       "1196       False        False           True         False         False   \n",
       "\n",
       "      day_Sunday  quarter_Quarter1  quarter_Quarter2  quarter_Quarter3  \\\n",
       "0          False              True             False             False   \n",
       "1          False              True             False             False   \n",
       "2          False              True             False             False   \n",
       "3          False              True             False             False   \n",
       "4          False              True             False             False   \n",
       "...          ...               ...               ...               ...   \n",
       "1192       False             False              True             False   \n",
       "1193       False             False              True             False   \n",
       "1194       False             False              True             False   \n",
       "1195       False             False              True             False   \n",
       "1196       False             False              True             False   \n",
       "\n",
       "      quarter_Quarter4  quarter_Quarter5  actual_productivity  \n",
       "0                False             False             0.940725  \n",
       "1                False             False             0.886500  \n",
       "2                False             False             0.800570  \n",
       "3                False             False             0.800570  \n",
       "4                False             False             0.800382  \n",
       "...                ...               ...                  ...  \n",
       "1192             False             False             0.628333  \n",
       "1193             False             False             0.625625  \n",
       "1194             False             False             0.625625  \n",
       "1195             False             False             0.505889  \n",
       "1196             False             False             0.394722  \n",
       "\n",
       "[1197 rows x 12 columns]"
      ]
     },
     "execution_count": 36,
     "metadata": {},
     "output_type": "execute_result"
    }
   ],
   "source": [
    "day_quarter_productivity_df = df[['day_Monday', 'day_Tuesday', 'day_Wednesday', 'day_Thursday', 'day_Saturday', 'day_Sunday', 'quarter_Quarter1', 'quarter_Quarter2', 'quarter_Quarter3', 'quarter_Quarter4', 'quarter_Quarter5', 'actual_productivity']]\n",
    "\n",
    "day_quarter_productivity_df"
   ]
  },
  {
   "cell_type": "markdown",
   "metadata": {},
   "source": [
    "Transform the relevant fields into more easily processable values."
   ]
  },
  {
   "cell_type": "code",
   "execution_count": 37,
   "metadata": {},
   "outputs": [
    {
     "data": {
      "text/html": [
       "<div>\n",
       "<style scoped>\n",
       "    .dataframe tbody tr th:only-of-type {\n",
       "        vertical-align: middle;\n",
       "    }\n",
       "\n",
       "    .dataframe tbody tr th {\n",
       "        vertical-align: top;\n",
       "    }\n",
       "\n",
       "    .dataframe thead th {\n",
       "        text-align: right;\n",
       "    }\n",
       "</style>\n",
       "<table border=\"1\" class=\"dataframe\">\n",
       "  <thead>\n",
       "    <tr style=\"text-align: right;\">\n",
       "      <th></th>\n",
       "      <th>actual_productivity</th>\n",
       "      <th>day_of_week</th>\n",
       "      <th>quarter</th>\n",
       "    </tr>\n",
       "  </thead>\n",
       "  <tbody>\n",
       "    <tr>\n",
       "      <th>0</th>\n",
       "      <td>0.940725</td>\n",
       "      <td>Thursday</td>\n",
       "      <td>Quarter1</td>\n",
       "    </tr>\n",
       "    <tr>\n",
       "      <th>1</th>\n",
       "      <td>0.886500</td>\n",
       "      <td>Thursday</td>\n",
       "      <td>Quarter1</td>\n",
       "    </tr>\n",
       "    <tr>\n",
       "      <th>2</th>\n",
       "      <td>0.800570</td>\n",
       "      <td>Thursday</td>\n",
       "      <td>Quarter1</td>\n",
       "    </tr>\n",
       "    <tr>\n",
       "      <th>3</th>\n",
       "      <td>0.800570</td>\n",
       "      <td>Thursday</td>\n",
       "      <td>Quarter1</td>\n",
       "    </tr>\n",
       "    <tr>\n",
       "      <th>4</th>\n",
       "      <td>0.800382</td>\n",
       "      <td>Thursday</td>\n",
       "      <td>Quarter1</td>\n",
       "    </tr>\n",
       "    <tr>\n",
       "      <th>...</th>\n",
       "      <td>...</td>\n",
       "      <td>...</td>\n",
       "      <td>...</td>\n",
       "    </tr>\n",
       "    <tr>\n",
       "      <th>1192</th>\n",
       "      <td>0.628333</td>\n",
       "      <td>Wednesday</td>\n",
       "      <td>Quarter2</td>\n",
       "    </tr>\n",
       "    <tr>\n",
       "      <th>1193</th>\n",
       "      <td>0.625625</td>\n",
       "      <td>Wednesday</td>\n",
       "      <td>Quarter2</td>\n",
       "    </tr>\n",
       "    <tr>\n",
       "      <th>1194</th>\n",
       "      <td>0.625625</td>\n",
       "      <td>Wednesday</td>\n",
       "      <td>Quarter2</td>\n",
       "    </tr>\n",
       "    <tr>\n",
       "      <th>1195</th>\n",
       "      <td>0.505889</td>\n",
       "      <td>Wednesday</td>\n",
       "      <td>Quarter2</td>\n",
       "    </tr>\n",
       "    <tr>\n",
       "      <th>1196</th>\n",
       "      <td>0.394722</td>\n",
       "      <td>Wednesday</td>\n",
       "      <td>Quarter2</td>\n",
       "    </tr>\n",
       "  </tbody>\n",
       "</table>\n",
       "<p>1197 rows × 3 columns</p>\n",
       "</div>"
      ],
      "text/plain": [
       "      actual_productivity day_of_week   quarter\n",
       "0                0.940725    Thursday  Quarter1\n",
       "1                0.886500    Thursday  Quarter1\n",
       "2                0.800570    Thursday  Quarter1\n",
       "3                0.800570    Thursday  Quarter1\n",
       "4                0.800382    Thursday  Quarter1\n",
       "...                   ...         ...       ...\n",
       "1192             0.628333   Wednesday  Quarter2\n",
       "1193             0.625625   Wednesday  Quarter2\n",
       "1194             0.625625   Wednesday  Quarter2\n",
       "1195             0.505889   Wednesday  Quarter2\n",
       "1196             0.394722   Wednesday  Quarter2\n",
       "\n",
       "[1197 rows x 3 columns]"
      ]
     },
     "execution_count": 37,
     "metadata": {},
     "output_type": "execute_result"
    }
   ],
   "source": [
    "# Ensure we are working with a copy of the DataFrame\n",
    "day_quarter_productivity_df = day_quarter_productivity_df.copy()\n",
    "\n",
    "# Make day_of_week and quarter columns\n",
    "day_quarter_productivity_df.loc[:, 'day_of_week'] = day_quarter_productivity_df[['day_Monday', 'day_Tuesday', 'day_Wednesday', 'day_Thursday', 'day_Saturday', 'day_Sunday']].idxmax(axis=1).str.split('_').str[1]\n",
    "day_quarter_productivity_df.loc[:, 'quarter'] = day_quarter_productivity_df[['quarter_Quarter1', 'quarter_Quarter2', 'quarter_Quarter3', 'quarter_Quarter4', 'quarter_Quarter5']].idxmax(axis=1).str.split('_').str[1]\n",
    "\n",
    "# Drop the one-hot encoded columns\n",
    "day_quarter_productivity_df = day_quarter_productivity_df.drop(['day_Monday', 'day_Tuesday', 'day_Wednesday', 'day_Thursday', 'day_Saturday', 'day_Sunday', 'quarter_Quarter1', 'quarter_Quarter2', 'quarter_Quarter3', 'quarter_Quarter4', 'quarter_Quarter5'], axis=1)\n",
    "\n",
    "day_quarter_productivity_df"
   ]
  },
  {
   "cell_type": "markdown",
   "metadata": {},
   "source": [
    "### Data Representation and Visualization"
   ]
  },
  {
   "cell_type": "markdown",
   "metadata": {},
   "source": [
    "Pivot Tables specialize in representing grouped data of many dimensions into a neat table format, where the rows and columns are the groupings and the cells are the featured values.\n",
    "As the EDA features 1 quantitative and 2 qualitative features, a Pivot Table should be the most fitting representation. \n",
    "This lets us create a table who's columns are the days of the week, rows are the quarters of the month, and cells are the means of the actual productivities grouped by the columns and rows."
   ]
  },
  {
   "cell_type": "code",
   "execution_count": 38,
   "metadata": {},
   "outputs": [
    {
     "data": {
      "text/html": [
       "<div>\n",
       "<style scoped>\n",
       "    .dataframe tbody tr th:only-of-type {\n",
       "        vertical-align: middle;\n",
       "    }\n",
       "\n",
       "    .dataframe tbody tr th {\n",
       "        vertical-align: top;\n",
       "    }\n",
       "\n",
       "    .dataframe thead th {\n",
       "        text-align: right;\n",
       "    }\n",
       "</style>\n",
       "<table border=\"1\" class=\"dataframe\">\n",
       "  <thead>\n",
       "    <tr style=\"text-align: right;\">\n",
       "      <th>day_of_week</th>\n",
       "      <th>Sunday</th>\n",
       "      <th>Monday</th>\n",
       "      <th>Tuesday</th>\n",
       "      <th>Wednesday</th>\n",
       "      <th>Thursday</th>\n",
       "      <th>Saturday</th>\n",
       "    </tr>\n",
       "    <tr>\n",
       "      <th>quarter</th>\n",
       "      <th></th>\n",
       "      <th></th>\n",
       "      <th></th>\n",
       "      <th></th>\n",
       "      <th></th>\n",
       "      <th></th>\n",
       "    </tr>\n",
       "  </thead>\n",
       "  <tbody>\n",
       "    <tr>\n",
       "      <th>Quarter1</th>\n",
       "      <td>0.744070</td>\n",
       "      <td>0.746133</td>\n",
       "      <td>0.751094</td>\n",
       "      <td>0.755135</td>\n",
       "      <td>0.749143</td>\n",
       "      <td>0.761843</td>\n",
       "    </tr>\n",
       "    <tr>\n",
       "      <th>Quarter2</th>\n",
       "      <td>0.748086</td>\n",
       "      <td>0.739473</td>\n",
       "      <td>0.760480</td>\n",
       "      <td>0.738996</td>\n",
       "      <td>0.719283</td>\n",
       "      <td>0.741212</td>\n",
       "    </tr>\n",
       "    <tr>\n",
       "      <th>Quarter3</th>\n",
       "      <td>0.677855</td>\n",
       "      <td>0.706273</td>\n",
       "      <td>0.700208</td>\n",
       "      <td>0.695238</td>\n",
       "      <td>0.722660</td>\n",
       "      <td>0.730730</td>\n",
       "    </tr>\n",
       "    <tr>\n",
       "      <th>Quarter4</th>\n",
       "      <td>0.716707</td>\n",
       "      <td>0.737127</td>\n",
       "      <td>0.737412</td>\n",
       "      <td>0.712093</td>\n",
       "      <td>0.654613</td>\n",
       "      <td>0.700899</td>\n",
       "    </tr>\n",
       "    <tr>\n",
       "      <th>Quarter5</th>\n",
       "      <td>NaN</td>\n",
       "      <td>NaN</td>\n",
       "      <td>NaN</td>\n",
       "      <td>NaN</td>\n",
       "      <td>0.791633</td>\n",
       "      <td>0.854926</td>\n",
       "    </tr>\n",
       "  </tbody>\n",
       "</table>\n",
       "</div>"
      ],
      "text/plain": [
       "day_of_week    Sunday    Monday   Tuesday  Wednesday  Thursday  Saturday\n",
       "quarter                                                                 \n",
       "Quarter1     0.744070  0.746133  0.751094   0.755135  0.749143  0.761843\n",
       "Quarter2     0.748086  0.739473  0.760480   0.738996  0.719283  0.741212\n",
       "Quarter3     0.677855  0.706273  0.700208   0.695238  0.722660  0.730730\n",
       "Quarter4     0.716707  0.737127  0.737412   0.712093  0.654613  0.700899\n",
       "Quarter5          NaN       NaN       NaN        NaN  0.791633  0.854926"
      ]
     },
     "execution_count": 38,
     "metadata": {},
     "output_type": "execute_result"
    }
   ],
   "source": [
    "# Create a pivot table\n",
    "pivot_table = day_quarter_productivity_df.pivot_table(\n",
    "    values='actual_productivity', \n",
    "    index='quarter', \n",
    "    columns='day_of_week', \n",
    "    aggfunc='mean'\n",
    ")\n",
    "\n",
    "# Sort the days of the week\n",
    "pivot_table = pivot_table[['Sunday', 'Monday', 'Tuesday', 'Wednesday', 'Thursday', 'Saturday']]\n",
    "\n",
    "pivot_table"
   ]
  },
  {
   "cell_type": "markdown",
   "metadata": {},
   "source": [
    "To better visualize the Pivot Table, a Heat Map can be made to highlight the trends of the data in each grouping."
   ]
  },
  {
   "cell_type": "code",
   "execution_count": 39,
   "metadata": {},
   "outputs": [
    {
     "data": {
      "image/png": "[encoded data removed]",
      "text/plain": [
       "<Figure size 800x600 with 2 Axes>"
      ]
     },
     "metadata": {},
     "output_type": "display_data"
    }
   ],
   "source": [
    "# Plot the pivot table\n",
    "plt.figure(figsize=(8, 6))\n",
    "plt.imshow(pivot_table, cmap='viridis')\n",
    "plt.colorbar()\n",
    "plt.xticks(np.arange(6), pivot_table.columns)\n",
    "plt.yticks(np.arange(5), pivot_table.index)\n",
    "plt.xlabel('Day of the Week')\n",
    "plt.ylabel('Quarter of the Month')\n",
    "plt.title('Average Productivity by Day of the Week and Quarter of the Month')\n",
    "plt.show()"
   ]
  },
  {
   "cell_type": "markdown",
   "metadata": {},
   "source": [
    "### Findings"
   ]
  },
  {
   "cell_type": "markdown",
   "metadata": {},
   "source": [
    "- Actual productivity of workers decreases as the month goes by, with the later half of the month being darker than the start. \n",
    "- The start of Quarter 3 (0.677855) and the end of Quarter 4 (0.654613) are especially dark, suggesting that the workers are less productive after receiving their 1st monthly paycheck and before receiving their 2nd monthly paycheck.\n",
    "- Quarter 5 is very productive as its colors are way brighter. However, this may be an outlier due to the only Quarter 5 days being 1/29/2015 (0.791633) and 1/31/2025 (0.854926)."
   ]
  },
  {
   "cell_type": "markdown",
   "metadata": {},
   "source": [
    "## V-D. SMV to Number of Workers and Overtime"
   ]
  },
  {
   "cell_type": "code",
   "execution_count": 35,
   "metadata": {},
   "outputs": [],
   "source": [
    "smv_nw_overtime_df = df[['smv', 'no_of_workers', 'over_time']]"
   ]
  },
  {
   "cell_type": "markdown",
   "metadata": {},
   "source": [
    "# VI. Initial Model Training"
   ]
  },
  {
   "cell_type": "markdown",
   "metadata": {},
   "source": [
    "## VI-0. Train, Validation, and Test Set Separation"
   ]
  },
  {
   "cell_type": "markdown",
   "metadata": {},
   "source": [
    "`X` is the feature table and will all features except `actual_productivity`.\n",
    "\n",
    "`y` is the label of the feature table and will only contain `actual_productivity`."
   ]
  },
  {
   "cell_type": "code",
   "execution_count": 40,
   "metadata": {},
   "outputs": [
    {
     "name": "stdout",
     "output_type": "stream",
     "text": [
      "X  (1197, 24)\n",
      "y  (1197,)\n"
     ]
    }
   ],
   "source": [
    "X = df.drop(columns=['actual_productivity']).values\n",
    "y = df['actual_productivity'].values\n",
    "\n",
    "print('X ', X.shape)\n",
    "print('y ', y.shape)"
   ]
  },
  {
   "cell_type": "markdown",
   "metadata": {},
   "source": [
    "Divide the dataset into train and test sets, where `20%` of the data will be placed in the test set.\n",
    "\n",
    "Divide the train set into train and validation sets, where `10%` of the data will be placed in the validation set. \n",
    "\n",
    "Random state is set to `69` for uniformity."
   ]
  },
  {
   "cell_type": "code",
   "execution_count": 41,
   "metadata": {},
   "outputs": [],
   "source": [
    "X_train, X_test, y_train, y_test = train_test_split(X, y, test_size=0.2, random_state=random_seed)\n",
    "X_train, X_val, y_train, y_val = train_test_split(X_train, y_train, test_size=0.1, random_state=random_seed)"
   ]
  },
  {
   "cell_type": "markdown",
   "metadata": {},
   "source": [
    "Display the shape of the train, validation, and test sets."
   ]
  },
  {
   "cell_type": "code",
   "execution_count": 42,
   "metadata": {},
   "outputs": [
    {
     "name": "stdout",
     "output_type": "stream",
     "text": [
      "X_train (861, 24)\n",
      "y_train (861,)\n",
      "X_val (96, 24)\n",
      "y_val (96,)\n",
      "X_test (240, 24)\n",
      "y_test (240,)\n"
     ]
    }
   ],
   "source": [
    "print('X_train', X_train.shape)\n",
    "print('y_train', y_train.shape)\n",
    "\n",
    "print('X_val', X_val.shape)\n",
    "print('y_val', y_val.shape)\n",
    "\n",
    "print('X_test', X_test.shape)\n",
    "print('y_test', y_test.shape)"
   ]
  },
  {
   "cell_type": "markdown",
   "metadata": {},
   "source": [
    "## VI-A. Linear Regression"
   ]
  },
  {
   "cell_type": "markdown",
   "metadata": {},
   "source": [
    "## VI-B. Decision Trees"
   ]
  },
  {
   "cell_type": "markdown",
   "metadata": {},
   "source": [
    "## VI-C. Neural Network"
   ]
  },
  {
   "cell_type": "markdown",
   "metadata": {},
   "source": [
    "Justification..."
   ]
  },
  {
   "cell_type": "code",
   "execution_count": 43,
   "metadata": {},
   "outputs": [],
   "source": [
    "nn_pipe = Pipeline([\n",
    "    ('scaler', StandardScaler()),\n",
    "    ('regressor', MLPRegressor(hidden_layer_sizes=(250, 250, 250), random_state=random_seed))\n",
    "])"
   ]
  },
  {
   "cell_type": "markdown",
   "metadata": {},
   "source": [
    "Default Hyperparameters\n",
    "\n",
    "Note: There is only 1 hidden layer"
   ]
  },
  {
   "cell_type": "code",
   "execution_count": 44,
   "metadata": {},
   "outputs": [
    {
     "data": {
      "text/plain": [
       "{'memory': None,\n",
       " 'steps': [('scaler', StandardScaler()),\n",
       "  ('regressor',\n",
       "   MLPRegressor(hidden_layer_sizes=(250, 250, 250), random_state=69))],\n",
       " 'verbose': False,\n",
       " 'scaler': StandardScaler(),\n",
       " 'regressor': MLPRegressor(hidden_layer_sizes=(250, 250, 250), random_state=69),\n",
       " 'scaler__copy': True,\n",
       " 'scaler__with_mean': True,\n",
       " 'scaler__with_std': True,\n",
       " 'regressor__activation': 'relu',\n",
       " 'regressor__alpha': 0.0001,\n",
       " 'regressor__batch_size': 'auto',\n",
       " 'regressor__beta_1': 0.9,\n",
       " 'regressor__beta_2': 0.999,\n",
       " 'regressor__early_stopping': False,\n",
       " 'regressor__epsilon': 1e-08,\n",
       " 'regressor__hidden_layer_sizes': (250, 250, 250),\n",
       " 'regressor__learning_rate': 'constant',\n",
       " 'regressor__learning_rate_init': 0.001,\n",
       " 'regressor__max_fun': 15000,\n",
       " 'regressor__max_iter': 200,\n",
       " 'regressor__momentum': 0.9,\n",
       " 'regressor__n_iter_no_change': 10,\n",
       " 'regressor__nesterovs_momentum': True,\n",
       " 'regressor__power_t': 0.5,\n",
       " 'regressor__random_state': 69,\n",
       " 'regressor__shuffle': True,\n",
       " 'regressor__solver': 'adam',\n",
       " 'regressor__tol': 0.0001,\n",
       " 'regressor__validation_fraction': 0.1,\n",
       " 'regressor__verbose': False,\n",
       " 'regressor__warm_start': False}"
      ]
     },
     "execution_count": 44,
     "metadata": {},
     "output_type": "execute_result"
    }
   ],
   "source": [
    "nn_pipe.get_params()"
   ]
  },
  {
   "cell_type": "code",
   "execution_count": 45,
   "metadata": {},
   "outputs": [
    {
     "data": {
      "text/html": [
       "<style>#sk-container-id-1 {\n",
       "  /* Definition of color scheme common for light and dark mode */\n",
       "  --sklearn-color-text: black;\n",
       "  --sklearn-color-line: gray;\n",
       "  /* Definition of color scheme for unfitted estimators */\n",
       "  --sklearn-color-unfitted-level-0: #fff5e6;\n",
       "  --sklearn-color-unfitted-level-1: #f6e4d2;\n",
       "  --sklearn-color-unfitted-level-2: #ffe0b3;\n",
       "  --sklearn-color-unfitted-level-3: chocolate;\n",
       "  /* Definition of color scheme for fitted estimators */\n",
       "  --sklearn-color-fitted-level-0: #f0f8ff;\n",
       "  --sklearn-color-fitted-level-1: #d4ebff;\n",
       "  --sklearn-color-fitted-level-2: #b3dbfd;\n",
       "  --sklearn-color-fitted-level-3: cornflowerblue;\n",
       "\n",
       "  /* Specific color for light theme */\n",
       "  --sklearn-color-text-on-default-background: var(--sg-text-color, var(--theme-code-foreground, var(--jp-content-font-color1, black)));\n",
       "  --sklearn-color-background: var(--sg-background-color, var(--theme-background, var(--jp-layout-color0, white)));\n",
       "  --sklearn-color-border-box: var(--sg-text-color, var(--theme-code-foreground, var(--jp-content-font-color1, black)));\n",
       "  --sklearn-color-icon: #696969;\n",
       "\n",
       "  @media (prefers-color-scheme: dark) {\n",
       "    /* Redefinition of color scheme for dark theme */\n",
       "    --sklearn-color-text-on-default-background: var(--sg-text-color, var(--theme-code-foreground, var(--jp-content-font-color1, white)));\n",
       "    --sklearn-color-background: var(--sg-background-color, var(--theme-background, var(--jp-layout-color0, #111)));\n",
       "    --sklearn-color-border-box: var(--sg-text-color, var(--theme-code-foreground, var(--jp-content-font-color1, white)));\n",
       "    --sklearn-color-icon: #878787;\n",
       "  }\n",
       "}\n",
       "\n",
       "#sk-container-id-1 {\n",
       "  color: var(--sklearn-color-text);\n",
       "}\n",
       "\n",
       "#sk-container-id-1 pre {\n",
       "  padding: 0;\n",
       "}\n",
       "\n",
       "#sk-container-id-1 input.sk-hidden--visually {\n",
       "  border: 0;\n",
       "  clip: rect(1px 1px 1px 1px);\n",
       "  clip: rect(1px, 1px, 1px, 1px);\n",
       "  height: 1px;\n",
       "  margin: -1px;\n",
       "  overflow: hidden;\n",
       "  padding: 0;\n",
       "  position: absolute;\n",
       "  width: 1px;\n",
       "}\n",
       "\n",
       "#sk-container-id-1 div.sk-dashed-wrapped {\n",
       "  border: 1px dashed var(--sklearn-color-line);\n",
       "  margin: 0 0.4em 0.5em 0.4em;\n",
       "  box-sizing: border-box;\n",
       "  padding-bottom: 0.4em;\n",
       "  background-color: var(--sklearn-color-background);\n",
       "}\n",
       "\n",
       "#sk-container-id-1 div.sk-container {\n",
       "  /* jupyter's `normalize.less` sets `[hidden] { display: none; }`\n",
       "     but bootstrap.min.css set `[hidden] { display: none !important; }`\n",
       "     so we also need the `!important` here to be able to override the\n",
       "     default hidden behavior on the sphinx rendered scikit-learn.org.\n",
       "     See: https://github.com/scikit-learn/scikit-learn/issues/21755 */\n",
       "  display: inline-block !important;\n",
       "  position: relative;\n",
       "}\n",
       "\n",
       "#sk-container-id-1 div.sk-text-repr-fallback {\n",
       "  display: none;\n",
       "}\n",
       "\n",
       "div.sk-parallel-item,\n",
       "div.sk-serial,\n",
       "div.sk-item {\n",
       "  /* draw centered vertical line to link estimators */\n",
       "  background-image: linear-gradient(var(--sklearn-color-text-on-default-background), var(--sklearn-color-text-on-default-background));\n",
       "  background-size: 2px 100%;\n",
       "  background-repeat: no-repeat;\n",
       "  background-position: center center;\n",
       "}\n",
       "\n",
       "/* Parallel-specific style estimator block */\n",
       "\n",
       "#sk-container-id-1 div.sk-parallel-item::after {\n",
       "  content: \"\";\n",
       "  width: 100%;\n",
       "  border-bottom: 2px solid var(--sklearn-color-text-on-default-background);\n",
       "  flex-grow: 1;\n",
       "}\n",
       "\n",
       "#sk-container-id-1 div.sk-parallel {\n",
       "  display: flex;\n",
       "  align-items: stretch;\n",
       "  justify-content: center;\n",
       "  background-color: var(--sklearn-color-background);\n",
       "  position: relative;\n",
       "}\n",
       "\n",
       "#sk-container-id-1 div.sk-parallel-item {\n",
       "  display: flex;\n",
       "  flex-direction: column;\n",
       "}\n",
       "\n",
       "#sk-container-id-1 div.sk-parallel-item:first-child::after {\n",
       "  align-self: flex-end;\n",
       "  width: 50%;\n",
       "}\n",
       "\n",
       "#sk-container-id-1 div.sk-parallel-item:last-child::after {\n",
       "  align-self: flex-start;\n",
       "  width: 50%;\n",
       "}\n",
       "\n",
       "#sk-container-id-1 div.sk-parallel-item:only-child::after {\n",
       "  width: 0;\n",
       "}\n",
       "\n",
       "/* Serial-specific style estimator block */\n",
       "\n",
       "#sk-container-id-1 div.sk-serial {\n",
       "  display: flex;\n",
       "  flex-direction: column;\n",
       "  align-items: center;\n",
       "  background-color: var(--sklearn-color-background);\n",
       "  padding-right: 1em;\n",
       "  padding-left: 1em;\n",
       "}\n",
       "\n",
       "\n",
       "/* Toggleable style: style used for estimator/Pipeline/ColumnTransformer box that is\n",
       "clickable and can be expanded/collapsed.\n",
       "- Pipeline and ColumnTransformer use this feature and define the default style\n",
       "- Estimators will overwrite some part of the style using the `sk-estimator` class\n",
       "*/\n",
       "\n",
       "/* Pipeline and ColumnTransformer style (default) */\n",
       "\n",
       "#sk-container-id-1 div.sk-toggleable {\n",
       "  /* Default theme specific background. It is overwritten whether we have a\n",
       "  specific estimator or a Pipeline/ColumnTransformer */\n",
       "  background-color: var(--sklearn-color-background);\n",
       "}\n",
       "\n",
       "/* Toggleable label */\n",
       "#sk-container-id-1 label.sk-toggleable__label {\n",
       "  cursor: pointer;\n",
       "  display: block;\n",
       "  width: 100%;\n",
       "  margin-bottom: 0;\n",
       "  padding: 0.5em;\n",
       "  box-sizing: border-box;\n",
       "  text-align: center;\n",
       "}\n",
       "\n",
       "#sk-container-id-1 label.sk-toggleable__label-arrow:before {\n",
       "  /* Arrow on the left of the label */\n",
       "  content: \"▸\";\n",
       "  float: left;\n",
       "  margin-right: 0.25em;\n",
       "  color: var(--sklearn-color-icon);\n",
       "}\n",
       "\n",
       "#sk-container-id-1 label.sk-toggleable__label-arrow:hover:before {\n",
       "  color: var(--sklearn-color-text);\n",
       "}\n",
       "\n",
       "/* Toggleable content - dropdown */\n",
       "\n",
       "#sk-container-id-1 div.sk-toggleable__content {\n",
       "  max-height: 0;\n",
       "  max-width: 0;\n",
       "  overflow: hidden;\n",
       "  text-align: left;\n",
       "  /* unfitted */\n",
       "  background-color: var(--sklearn-color-unfitted-level-0);\n",
       "}\n",
       "\n",
       "#sk-container-id-1 div.sk-toggleable__content.fitted {\n",
       "  /* fitted */\n",
       "  background-color: var(--sklearn-color-fitted-level-0);\n",
       "}\n",
       "\n",
       "#sk-container-id-1 div.sk-toggleable__content pre {\n",
       "  margin: 0.2em;\n",
       "  border-radius: 0.25em;\n",
       "  color: var(--sklearn-color-text);\n",
       "  /* unfitted */\n",
       "  background-color: var(--sklearn-color-unfitted-level-0);\n",
       "}\n",
       "\n",
       "#sk-container-id-1 div.sk-toggleable__content.fitted pre {\n",
       "  /* unfitted */\n",
       "  background-color: var(--sklearn-color-fitted-level-0);\n",
       "}\n",
       "\n",
       "#sk-container-id-1 input.sk-toggleable__control:checked~div.sk-toggleable__content {\n",
       "  /* Expand drop-down */\n",
       "  max-height: 200px;\n",
       "  max-width: 100%;\n",
       "  overflow: auto;\n",
       "}\n",
       "\n",
       "#sk-container-id-1 input.sk-toggleable__control:checked~label.sk-toggleable__label-arrow:before {\n",
       "  content: \"▾\";\n",
       "}\n",
       "\n",
       "/* Pipeline/ColumnTransformer-specific style */\n",
       "\n",
       "#sk-container-id-1 div.sk-label input.sk-toggleable__control:checked~label.sk-toggleable__label {\n",
       "  color: var(--sklearn-color-text);\n",
       "  background-color: var(--sklearn-color-unfitted-level-2);\n",
       "}\n",
       "\n",
       "#sk-container-id-1 div.sk-label.fitted input.sk-toggleable__control:checked~label.sk-toggleable__label {\n",
       "  background-color: var(--sklearn-color-fitted-level-2);\n",
       "}\n",
       "\n",
       "/* Estimator-specific style */\n",
       "\n",
       "/* Colorize estimator box */\n",
       "#sk-container-id-1 div.sk-estimator input.sk-toggleable__control:checked~label.sk-toggleable__label {\n",
       "  /* unfitted */\n",
       "  background-color: var(--sklearn-color-unfitted-level-2);\n",
       "}\n",
       "\n",
       "#sk-container-id-1 div.sk-estimator.fitted input.sk-toggleable__control:checked~label.sk-toggleable__label {\n",
       "  /* fitted */\n",
       "  background-color: var(--sklearn-color-fitted-level-2);\n",
       "}\n",
       "\n",
       "#sk-container-id-1 div.sk-label label.sk-toggleable__label,\n",
       "#sk-container-id-1 div.sk-label label {\n",
       "  /* The background is the default theme color */\n",
       "  color: var(--sklearn-color-text-on-default-background);\n",
       "}\n",
       "\n",
       "/* On hover, darken the color of the background */\n",
       "#sk-container-id-1 div.sk-label:hover label.sk-toggleable__label {\n",
       "  color: var(--sklearn-color-text);\n",
       "  background-color: var(--sklearn-color-unfitted-level-2);\n",
       "}\n",
       "\n",
       "/* Label box, darken color on hover, fitted */\n",
       "#sk-container-id-1 div.sk-label.fitted:hover label.sk-toggleable__label.fitted {\n",
       "  color: var(--sklearn-color-text);\n",
       "  background-color: var(--sklearn-color-fitted-level-2);\n",
       "}\n",
       "\n",
       "/* Estimator label */\n",
       "\n",
       "#sk-container-id-1 div.sk-label label {\n",
       "  font-family: monospace;\n",
       "  font-weight: bold;\n",
       "  display: inline-block;\n",
       "  line-height: 1.2em;\n",
       "}\n",
       "\n",
       "#sk-container-id-1 div.sk-label-container {\n",
       "  text-align: center;\n",
       "}\n",
       "\n",
       "/* Estimator-specific */\n",
       "#sk-container-id-1 div.sk-estimator {\n",
       "  font-family: monospace;\n",
       "  border: 1px dotted var(--sklearn-color-border-box);\n",
       "  border-radius: 0.25em;\n",
       "  box-sizing: border-box;\n",
       "  margin-bottom: 0.5em;\n",
       "  /* unfitted */\n",
       "  background-color: var(--sklearn-color-unfitted-level-0);\n",
       "}\n",
       "\n",
       "#sk-container-id-1 div.sk-estimator.fitted {\n",
       "  /* fitted */\n",
       "  background-color: var(--sklearn-color-fitted-level-0);\n",
       "}\n",
       "\n",
       "/* on hover */\n",
       "#sk-container-id-1 div.sk-estimator:hover {\n",
       "  /* unfitted */\n",
       "  background-color: var(--sklearn-color-unfitted-level-2);\n",
       "}\n",
       "\n",
       "#sk-container-id-1 div.sk-estimator.fitted:hover {\n",
       "  /* fitted */\n",
       "  background-color: var(--sklearn-color-fitted-level-2);\n",
       "}\n",
       "\n",
       "/* Specification for estimator info (e.g. \"i\" and \"?\") */\n",
       "\n",
       "/* Common style for \"i\" and \"?\" */\n",
       "\n",
       ".sk-estimator-doc-link,\n",
       "a:link.sk-estimator-doc-link,\n",
       "a:visited.sk-estimator-doc-link {\n",
       "  float: right;\n",
       "  font-size: smaller;\n",
       "  line-height: 1em;\n",
       "  font-family: monospace;\n",
       "  background-color: var(--sklearn-color-background);\n",
       "  border-radius: 1em;\n",
       "  height: 1em;\n",
       "  width: 1em;\n",
       "  text-decoration: none !important;\n",
       "  margin-left: 1ex;\n",
       "  /* unfitted */\n",
       "  border: var(--sklearn-color-unfitted-level-1) 1pt solid;\n",
       "  color: var(--sklearn-color-unfitted-level-1);\n",
       "}\n",
       "\n",
       ".sk-estimator-doc-link.fitted,\n",
       "a:link.sk-estimator-doc-link.fitted,\n",
       "a:visited.sk-estimator-doc-link.fitted {\n",
       "  /* fitted */\n",
       "  border: var(--sklearn-color-fitted-level-1) 1pt solid;\n",
       "  color: var(--sklearn-color-fitted-level-1);\n",
       "}\n",
       "\n",
       "/* On hover */\n",
       "div.sk-estimator:hover .sk-estimator-doc-link:hover,\n",
       ".sk-estimator-doc-link:hover,\n",
       "div.sk-label-container:hover .sk-estimator-doc-link:hover,\n",
       ".sk-estimator-doc-link:hover {\n",
       "  /* unfitted */\n",
       "  background-color: var(--sklearn-color-unfitted-level-3);\n",
       "  color: var(--sklearn-color-background);\n",
       "  text-decoration: none;\n",
       "}\n",
       "\n",
       "div.sk-estimator.fitted:hover .sk-estimator-doc-link.fitted:hover,\n",
       ".sk-estimator-doc-link.fitted:hover,\n",
       "div.sk-label-container:hover .sk-estimator-doc-link.fitted:hover,\n",
       ".sk-estimator-doc-link.fitted:hover {\n",
       "  /* fitted */\n",
       "  background-color: var(--sklearn-color-fitted-level-3);\n",
       "  color: var(--sklearn-color-background);\n",
       "  text-decoration: none;\n",
       "}\n",
       "\n",
       "/* Span, style for the box shown on hovering the info icon */\n",
       ".sk-estimator-doc-link span {\n",
       "  display: none;\n",
       "  z-index: 9999;\n",
       "  position: relative;\n",
       "  font-weight: normal;\n",
       "  right: .2ex;\n",
       "  padding: .5ex;\n",
       "  margin: .5ex;\n",
       "  width: min-content;\n",
       "  min-width: 20ex;\n",
       "  max-width: 50ex;\n",
       "  color: var(--sklearn-color-text);\n",
       "  box-shadow: 2pt 2pt 4pt #999;\n",
       "  /* unfitted */\n",
       "  background: var(--sklearn-color-unfitted-level-0);\n",
       "  border: .5pt solid var(--sklearn-color-unfitted-level-3);\n",
       "}\n",
       "\n",
       ".sk-estimator-doc-link.fitted span {\n",
       "  /* fitted */\n",
       "  background: var(--sklearn-color-fitted-level-0);\n",
       "  border: var(--sklearn-color-fitted-level-3);\n",
       "}\n",
       "\n",
       ".sk-estimator-doc-link:hover span {\n",
       "  display: block;\n",
       "}\n",
       "\n",
       "/* \"?\"-specific style due to the `<a>` HTML tag */\n",
       "\n",
       "#sk-container-id-1 a.estimator_doc_link {\n",
       "  float: right;\n",
       "  font-size: 1rem;\n",
       "  line-height: 1em;\n",
       "  font-family: monospace;\n",
       "  background-color: var(--sklearn-color-background);\n",
       "  border-radius: 1rem;\n",
       "  height: 1rem;\n",
       "  width: 1rem;\n",
       "  text-decoration: none;\n",
       "  /* unfitted */\n",
       "  color: var(--sklearn-color-unfitted-level-1);\n",
       "  border: var(--sklearn-color-unfitted-level-1) 1pt solid;\n",
       "}\n",
       "\n",
       "#sk-container-id-1 a.estimator_doc_link.fitted {\n",
       "  /* fitted */\n",
       "  border: var(--sklearn-color-fitted-level-1) 1pt solid;\n",
       "  color: var(--sklearn-color-fitted-level-1);\n",
       "}\n",
       "\n",
       "/* On hover */\n",
       "#sk-container-id-1 a.estimator_doc_link:hover {\n",
       "  /* unfitted */\n",
       "  background-color: var(--sklearn-color-unfitted-level-3);\n",
       "  color: var(--sklearn-color-background);\n",
       "  text-decoration: none;\n",
       "}\n",
       "\n",
       "#sk-container-id-1 a.estimator_doc_link.fitted:hover {\n",
       "  /* fitted */\n",
       "  background-color: var(--sklearn-color-fitted-level-3);\n",
       "}\n",
       "</style><div id=\"sk-container-id-1\" class=\"sk-top-container\"><div class=\"sk-text-repr-fallback\"><pre>Pipeline(steps=[(&#x27;scaler&#x27;, StandardScaler()),\n",
       "                (&#x27;regressor&#x27;,\n",
       "                 MLPRegressor(hidden_layer_sizes=(250, 250, 250),\n",
       "                              random_state=69))])</pre><b>In a Jupyter environment, please rerun this cell to show the HTML representation or trust the notebook. <br />On GitHub, the HTML representation is unable to render, please try loading this page with nbviewer.org.</b></div><div class=\"sk-container\" hidden><div class=\"sk-item sk-dashed-wrapped\"><div class=\"sk-label-container\"><div class=\"sk-label fitted sk-toggleable\"><input class=\"sk-toggleable__control sk-hidden--visually\" id=\"sk-estimator-id-1\" type=\"checkbox\" ><label for=\"sk-estimator-id-1\" class=\"sk-toggleable__label fitted sk-toggleable__label-arrow fitted\">&nbsp;&nbsp;Pipeline<a class=\"sk-estimator-doc-link fitted\" rel=\"noreferrer\" target=\"_blank\" href=\"https://scikit-learn.org/1.5/modules/generated/sklearn.pipeline.Pipeline.html\">?<span>Documentation for Pipeline</span></a><span class=\"sk-estimator-doc-link fitted\">i<span>Fitted</span></span></label><div class=\"sk-toggleable__content fitted\"><pre>Pipeline(steps=[(&#x27;scaler&#x27;, StandardScaler()),\n",
       "                (&#x27;regressor&#x27;,\n",
       "                 MLPRegressor(hidden_layer_sizes=(250, 250, 250),\n",
       "                              random_state=69))])</pre></div> </div></div><div class=\"sk-serial\"><div class=\"sk-item\"><div class=\"sk-estimator fitted sk-toggleable\"><input class=\"sk-toggleable__control sk-hidden--visually\" id=\"sk-estimator-id-2\" type=\"checkbox\" ><label for=\"sk-estimator-id-2\" class=\"sk-toggleable__label fitted sk-toggleable__label-arrow fitted\">&nbsp;StandardScaler<a class=\"sk-estimator-doc-link fitted\" rel=\"noreferrer\" target=\"_blank\" href=\"https://scikit-learn.org/1.5/modules/generated/sklearn.preprocessing.StandardScaler.html\">?<span>Documentation for StandardScaler</span></a></label><div class=\"sk-toggleable__content fitted\"><pre>StandardScaler()</pre></div> </div></div><div class=\"sk-item\"><div class=\"sk-estimator fitted sk-toggleable\"><input class=\"sk-toggleable__control sk-hidden--visually\" id=\"sk-estimator-id-3\" type=\"checkbox\" ><label for=\"sk-estimator-id-3\" class=\"sk-toggleable__label fitted sk-toggleable__label-arrow fitted\">&nbsp;MLPRegressor<a class=\"sk-estimator-doc-link fitted\" rel=\"noreferrer\" target=\"_blank\" href=\"https://scikit-learn.org/1.5/modules/generated/sklearn.neural_network.MLPRegressor.html\">?<span>Documentation for MLPRegressor</span></a></label><div class=\"sk-toggleable__content fitted\"><pre>MLPRegressor(hidden_layer_sizes=(250, 250, 250), random_state=69)</pre></div> </div></div></div></div></div></div>"
      ],
      "text/plain": [
       "Pipeline(steps=[('scaler', StandardScaler()),\n",
       "                ('regressor',\n",
       "                 MLPRegressor(hidden_layer_sizes=(250, 250, 250),\n",
       "                              random_state=69))])"
      ]
     },
     "execution_count": 45,
     "metadata": {},
     "output_type": "execute_result"
    }
   ],
   "source": [
    "nn_pipe.fit(X_train, y_train)"
   ]
  },
  {
   "cell_type": "code",
   "execution_count": 46,
   "metadata": {},
   "outputs": [
    {
     "name": "stdout",
     "output_type": "stream",
     "text": [
      "Initial Neural Network Train Score: 0.8647183733420212\n",
      "Initial Neural Network Validation Score: 0.3674955162786705\n",
      "Initial Neural Network Test Score: 0.014024415515057176\n"
     ]
    }
   ],
   "source": [
    "nn_train_score = nn_pipe.score(X_train, y_train)\n",
    "nn_val_score = nn_pipe.score(X_val, y_val)\n",
    "nn_test_score = nn_pipe.score(X_test, y_test)\n",
    "\n",
    "print('Initial Neural Network Train Score:', nn_train_score)\n",
    "print('Initial Neural Network Validation Score:', nn_val_score)\n",
    "print('Initial Neural Network Test Score:', nn_test_score)"
   ]
  },
  {
   "cell_type": "markdown",
   "metadata": {},
   "source": [
    "# VII. Error Analysis"
   ]
  },
  {
   "cell_type": "markdown",
   "metadata": {},
   "source": [
    "## VII-A. Linear Regression"
   ]
  },
  {
   "cell_type": "markdown",
   "metadata": {},
   "source": [
    "## VII-B. Decision Trees"
   ]
  },
  {
   "cell_type": "markdown",
   "metadata": {},
   "source": [
    "## VII-C. Neural Network"
   ]
  },
  {
   "cell_type": "markdown",
   "metadata": {},
   "source": [
    "# VIII. Improving Model Performance"
   ]
  },
  {
   "cell_type": "markdown",
   "metadata": {},
   "source": [
    "## VIII-A. Linear Regression"
   ]
  },
  {
   "cell_type": "markdown",
   "metadata": {},
   "source": [
    "## VIII-B. Decision Trees"
   ]
  },
  {
   "cell_type": "markdown",
   "metadata": {},
   "source": [
    "## VIII-C. Neural Network"
   ]
  },
  {
   "cell_type": "code",
   "execution_count": 53,
   "metadata": {},
   "outputs": [],
   "source": [
    "nn_pipe = Pipeline([\n",
    "    ('scaler', StandardScaler()),\n",
    "    ('regressor', MLPRegressor(random_state=random_seed))\n",
    "])"
   ]
  },
  {
   "cell_type": "code",
   "execution_count": 61,
   "metadata": {},
   "outputs": [],
   "source": [
    "# Define hidden layer sizes\n",
    "neuron_options = [50, 100, 250, 500]\n",
    "max_layers = 10\n",
    "\n",
    "hidden_layer_sizes = []\n",
    "for num_layers in range(1, max_layers + 1):\n",
    "    for combination in itertools.product(neuron_options, repeat=num_layers):\n",
    "        hidden_layer_sizes.append(combination)"
   ]
  },
  {
   "cell_type": "code",
   "execution_count": 62,
   "metadata": {},
   "outputs": [],
   "source": [
    "nn_hyperparameters = [\n",
    "    {\n",
    "        'regressor__hidden_layer_sizes': hidden_layer_sizes,\n",
    "        'regressor__activation': ['logistic', 'tanh', 'relu'],      \n",
    "        'regressor__learning_rate': ['constant', 'invscaling', 'adaptive'],\n",
    "        'regressor__learning_rate_init': [0.1, 0.01, 0.001, 0.0001],\n",
    "        'regressor__max_iter': [200, 400, 600, 800, 1000],\n",
    "        'regressor__alpha': [0.0001, 0.001, 0.01, 0.1]\n",
    "    }\n",
    "]"
   ]
  },
  {
   "cell_type": "code",
   "execution_count": 63,
   "metadata": {},
   "outputs": [
    {
     "name": "stderr",
     "output_type": "stream",
     "text": [
      "C:\\Users\\Tean Concio\\AppData\\Local\\Packages\\PythonSoftwareFoundation.Python.3.12_qbz5n2kfra8p0\\LocalCache\\local-packages\\Python312\\site-packages\\sklearn\\neural_network\\_multilayer_perceptron.py:690: ConvergenceWarning: Stochastic Optimizer: Maximum iterations (400) reached and the optimization hasn't converged yet.\n",
      "  warnings.warn(\n"
     ]
    },
    {
     "data": {
      "text/html": [
       "<style>#sk-container-id-3 {\n",
       "  /* Definition of color scheme common for light and dark mode */\n",
       "  --sklearn-color-text: black;\n",
       "  --sklearn-color-line: gray;\n",
       "  /* Definition of color scheme for unfitted estimators */\n",
       "  --sklearn-color-unfitted-level-0: #fff5e6;\n",
       "  --sklearn-color-unfitted-level-1: #f6e4d2;\n",
       "  --sklearn-color-unfitted-level-2: #ffe0b3;\n",
       "  --sklearn-color-unfitted-level-3: chocolate;\n",
       "  /* Definition of color scheme for fitted estimators */\n",
       "  --sklearn-color-fitted-level-0: #f0f8ff;\n",
       "  --sklearn-color-fitted-level-1: #d4ebff;\n",
       "  --sklearn-color-fitted-level-2: #b3dbfd;\n",
       "  --sklearn-color-fitted-level-3: cornflowerblue;\n",
       "\n",
       "  /* Specific color for light theme */\n",
       "  --sklearn-color-text-on-default-background: var(--sg-text-color, var(--theme-code-foreground, var(--jp-content-font-color1, black)));\n",
       "  --sklearn-color-background: var(--sg-background-color, var(--theme-background, var(--jp-layout-color0, white)));\n",
       "  --sklearn-color-border-box: var(--sg-text-color, var(--theme-code-foreground, var(--jp-content-font-color1, black)));\n",
       "  --sklearn-color-icon: #696969;\n",
       "\n",
       "  @media (prefers-color-scheme: dark) {\n",
       "    /* Redefinition of color scheme for dark theme */\n",
       "    --sklearn-color-text-on-default-background: var(--sg-text-color, var(--theme-code-foreground, var(--jp-content-font-color1, white)));\n",
       "    --sklearn-color-background: var(--sg-background-color, var(--theme-background, var(--jp-layout-color0, #111)));\n",
       "    --sklearn-color-border-box: var(--sg-text-color, var(--theme-code-foreground, var(--jp-content-font-color1, white)));\n",
       "    --sklearn-color-icon: #878787;\n",
       "  }\n",
       "}\n",
       "\n",
       "#sk-container-id-3 {\n",
       "  color: var(--sklearn-color-text);\n",
       "}\n",
       "\n",
       "#sk-container-id-3 pre {\n",
       "  padding: 0;\n",
       "}\n",
       "\n",
       "#sk-container-id-3 input.sk-hidden--visually {\n",
       "  border: 0;\n",
       "  clip: rect(1px 1px 1px 1px);\n",
       "  clip: rect(1px, 1px, 1px, 1px);\n",
       "  height: 1px;\n",
       "  margin: -1px;\n",
       "  overflow: hidden;\n",
       "  padding: 0;\n",
       "  position: absolute;\n",
       "  width: 1px;\n",
       "}\n",
       "\n",
       "#sk-container-id-3 div.sk-dashed-wrapped {\n",
       "  border: 1px dashed var(--sklearn-color-line);\n",
       "  margin: 0 0.4em 0.5em 0.4em;\n",
       "  box-sizing: border-box;\n",
       "  padding-bottom: 0.4em;\n",
       "  background-color: var(--sklearn-color-background);\n",
       "}\n",
       "\n",
       "#sk-container-id-3 div.sk-container {\n",
       "  /* jupyter's `normalize.less` sets `[hidden] { display: none; }`\n",
       "     but bootstrap.min.css set `[hidden] { display: none !important; }`\n",
       "     so we also need the `!important` here to be able to override the\n",
       "     default hidden behavior on the sphinx rendered scikit-learn.org.\n",
       "     See: https://github.com/scikit-learn/scikit-learn/issues/21755 */\n",
       "  display: inline-block !important;\n",
       "  position: relative;\n",
       "}\n",
       "\n",
       "#sk-container-id-3 div.sk-text-repr-fallback {\n",
       "  display: none;\n",
       "}\n",
       "\n",
       "div.sk-parallel-item,\n",
       "div.sk-serial,\n",
       "div.sk-item {\n",
       "  /* draw centered vertical line to link estimators */\n",
       "  background-image: linear-gradient(var(--sklearn-color-text-on-default-background), var(--sklearn-color-text-on-default-background));\n",
       "  background-size: 2px 100%;\n",
       "  background-repeat: no-repeat;\n",
       "  background-position: center center;\n",
       "}\n",
       "\n",
       "/* Parallel-specific style estimator block */\n",
       "\n",
       "#sk-container-id-3 div.sk-parallel-item::after {\n",
       "  content: \"\";\n",
       "  width: 100%;\n",
       "  border-bottom: 2px solid var(--sklearn-color-text-on-default-background);\n",
       "  flex-grow: 1;\n",
       "}\n",
       "\n",
       "#sk-container-id-3 div.sk-parallel {\n",
       "  display: flex;\n",
       "  align-items: stretch;\n",
       "  justify-content: center;\n",
       "  background-color: var(--sklearn-color-background);\n",
       "  position: relative;\n",
       "}\n",
       "\n",
       "#sk-container-id-3 div.sk-parallel-item {\n",
       "  display: flex;\n",
       "  flex-direction: column;\n",
       "}\n",
       "\n",
       "#sk-container-id-3 div.sk-parallel-item:first-child::after {\n",
       "  align-self: flex-end;\n",
       "  width: 50%;\n",
       "}\n",
       "\n",
       "#sk-container-id-3 div.sk-parallel-item:last-child::after {\n",
       "  align-self: flex-start;\n",
       "  width: 50%;\n",
       "}\n",
       "\n",
       "#sk-container-id-3 div.sk-parallel-item:only-child::after {\n",
       "  width: 0;\n",
       "}\n",
       "\n",
       "/* Serial-specific style estimator block */\n",
       "\n",
       "#sk-container-id-3 div.sk-serial {\n",
       "  display: flex;\n",
       "  flex-direction: column;\n",
       "  align-items: center;\n",
       "  background-color: var(--sklearn-color-background);\n",
       "  padding-right: 1em;\n",
       "  padding-left: 1em;\n",
       "}\n",
       "\n",
       "\n",
       "/* Toggleable style: style used for estimator/Pipeline/ColumnTransformer box that is\n",
       "clickable and can be expanded/collapsed.\n",
       "- Pipeline and ColumnTransformer use this feature and define the default style\n",
       "- Estimators will overwrite some part of the style using the `sk-estimator` class\n",
       "*/\n",
       "\n",
       "/* Pipeline and ColumnTransformer style (default) */\n",
       "\n",
       "#sk-container-id-3 div.sk-toggleable {\n",
       "  /* Default theme specific background. It is overwritten whether we have a\n",
       "  specific estimator or a Pipeline/ColumnTransformer */\n",
       "  background-color: var(--sklearn-color-background);\n",
       "}\n",
       "\n",
       "/* Toggleable label */\n",
       "#sk-container-id-3 label.sk-toggleable__label {\n",
       "  cursor: pointer;\n",
       "  display: block;\n",
       "  width: 100%;\n",
       "  margin-bottom: 0;\n",
       "  padding: 0.5em;\n",
       "  box-sizing: border-box;\n",
       "  text-align: center;\n",
       "}\n",
       "\n",
       "#sk-container-id-3 label.sk-toggleable__label-arrow:before {\n",
       "  /* Arrow on the left of the label */\n",
       "  content: \"▸\";\n",
       "  float: left;\n",
       "  margin-right: 0.25em;\n",
       "  color: var(--sklearn-color-icon);\n",
       "}\n",
       "\n",
       "#sk-container-id-3 label.sk-toggleable__label-arrow:hover:before {\n",
       "  color: var(--sklearn-color-text);\n",
       "}\n",
       "\n",
       "/* Toggleable content - dropdown */\n",
       "\n",
       "#sk-container-id-3 div.sk-toggleable__content {\n",
       "  max-height: 0;\n",
       "  max-width: 0;\n",
       "  overflow: hidden;\n",
       "  text-align: left;\n",
       "  /* unfitted */\n",
       "  background-color: var(--sklearn-color-unfitted-level-0);\n",
       "}\n",
       "\n",
       "#sk-container-id-3 div.sk-toggleable__content.fitted {\n",
       "  /* fitted */\n",
       "  background-color: var(--sklearn-color-fitted-level-0);\n",
       "}\n",
       "\n",
       "#sk-container-id-3 div.sk-toggleable__content pre {\n",
       "  margin: 0.2em;\n",
       "  border-radius: 0.25em;\n",
       "  color: var(--sklearn-color-text);\n",
       "  /* unfitted */\n",
       "  background-color: var(--sklearn-color-unfitted-level-0);\n",
       "}\n",
       "\n",
       "#sk-container-id-3 div.sk-toggleable__content.fitted pre {\n",
       "  /* unfitted */\n",
       "  background-color: var(--sklearn-color-fitted-level-0);\n",
       "}\n",
       "\n",
       "#sk-container-id-3 input.sk-toggleable__control:checked~div.sk-toggleable__content {\n",
       "  /* Expand drop-down */\n",
       "  max-height: 200px;\n",
       "  max-width: 100%;\n",
       "  overflow: auto;\n",
       "}\n",
       "\n",
       "#sk-container-id-3 input.sk-toggleable__control:checked~label.sk-toggleable__label-arrow:before {\n",
       "  content: \"▾\";\n",
       "}\n",
       "\n",
       "/* Pipeline/ColumnTransformer-specific style */\n",
       "\n",
       "#sk-container-id-3 div.sk-label input.sk-toggleable__control:checked~label.sk-toggleable__label {\n",
       "  color: var(--sklearn-color-text);\n",
       "  background-color: var(--sklearn-color-unfitted-level-2);\n",
       "}\n",
       "\n",
       "#sk-container-id-3 div.sk-label.fitted input.sk-toggleable__control:checked~label.sk-toggleable__label {\n",
       "  background-color: var(--sklearn-color-fitted-level-2);\n",
       "}\n",
       "\n",
       "/* Estimator-specific style */\n",
       "\n",
       "/* Colorize estimator box */\n",
       "#sk-container-id-3 div.sk-estimator input.sk-toggleable__control:checked~label.sk-toggleable__label {\n",
       "  /* unfitted */\n",
       "  background-color: var(--sklearn-color-unfitted-level-2);\n",
       "}\n",
       "\n",
       "#sk-container-id-3 div.sk-estimator.fitted input.sk-toggleable__control:checked~label.sk-toggleable__label {\n",
       "  /* fitted */\n",
       "  background-color: var(--sklearn-color-fitted-level-2);\n",
       "}\n",
       "\n",
       "#sk-container-id-3 div.sk-label label.sk-toggleable__label,\n",
       "#sk-container-id-3 div.sk-label label {\n",
       "  /* The background is the default theme color */\n",
       "  color: var(--sklearn-color-text-on-default-background);\n",
       "}\n",
       "\n",
       "/* On hover, darken the color of the background */\n",
       "#sk-container-id-3 div.sk-label:hover label.sk-toggleable__label {\n",
       "  color: var(--sklearn-color-text);\n",
       "  background-color: var(--sklearn-color-unfitted-level-2);\n",
       "}\n",
       "\n",
       "/* Label box, darken color on hover, fitted */\n",
       "#sk-container-id-3 div.sk-label.fitted:hover label.sk-toggleable__label.fitted {\n",
       "  color: var(--sklearn-color-text);\n",
       "  background-color: var(--sklearn-color-fitted-level-2);\n",
       "}\n",
       "\n",
       "/* Estimator label */\n",
       "\n",
       "#sk-container-id-3 div.sk-label label {\n",
       "  font-family: monospace;\n",
       "  font-weight: bold;\n",
       "  display: inline-block;\n",
       "  line-height: 1.2em;\n",
       "}\n",
       "\n",
       "#sk-container-id-3 div.sk-label-container {\n",
       "  text-align: center;\n",
       "}\n",
       "\n",
       "/* Estimator-specific */\n",
       "#sk-container-id-3 div.sk-estimator {\n",
       "  font-family: monospace;\n",
       "  border: 1px dotted var(--sklearn-color-border-box);\n",
       "  border-radius: 0.25em;\n",
       "  box-sizing: border-box;\n",
       "  margin-bottom: 0.5em;\n",
       "  /* unfitted */\n",
       "  background-color: var(--sklearn-color-unfitted-level-0);\n",
       "}\n",
       "\n",
       "#sk-container-id-3 div.sk-estimator.fitted {\n",
       "  /* fitted */\n",
       "  background-color: var(--sklearn-color-fitted-level-0);\n",
       "}\n",
       "\n",
       "/* on hover */\n",
       "#sk-container-id-3 div.sk-estimator:hover {\n",
       "  /* unfitted */\n",
       "  background-color: var(--sklearn-color-unfitted-level-2);\n",
       "}\n",
       "\n",
       "#sk-container-id-3 div.sk-estimator.fitted:hover {\n",
       "  /* fitted */\n",
       "  background-color: var(--sklearn-color-fitted-level-2);\n",
       "}\n",
       "\n",
       "/* Specification for estimator info (e.g. \"i\" and \"?\") */\n",
       "\n",
       "/* Common style for \"i\" and \"?\" */\n",
       "\n",
       ".sk-estimator-doc-link,\n",
       "a:link.sk-estimator-doc-link,\n",
       "a:visited.sk-estimator-doc-link {\n",
       "  float: right;\n",
       "  font-size: smaller;\n",
       "  line-height: 1em;\n",
       "  font-family: monospace;\n",
       "  background-color: var(--sklearn-color-background);\n",
       "  border-radius: 1em;\n",
       "  height: 1em;\n",
       "  width: 1em;\n",
       "  text-decoration: none !important;\n",
       "  margin-left: 1ex;\n",
       "  /* unfitted */\n",
       "  border: var(--sklearn-color-unfitted-level-1) 1pt solid;\n",
       "  color: var(--sklearn-color-unfitted-level-1);\n",
       "}\n",
       "\n",
       ".sk-estimator-doc-link.fitted,\n",
       "a:link.sk-estimator-doc-link.fitted,\n",
       "a:visited.sk-estimator-doc-link.fitted {\n",
       "  /* fitted */\n",
       "  border: var(--sklearn-color-fitted-level-1) 1pt solid;\n",
       "  color: var(--sklearn-color-fitted-level-1);\n",
       "}\n",
       "\n",
       "/* On hover */\n",
       "div.sk-estimator:hover .sk-estimator-doc-link:hover,\n",
       ".sk-estimator-doc-link:hover,\n",
       "div.sk-label-container:hover .sk-estimator-doc-link:hover,\n",
       ".sk-estimator-doc-link:hover {\n",
       "  /* unfitted */\n",
       "  background-color: var(--sklearn-color-unfitted-level-3);\n",
       "  color: var(--sklearn-color-background);\n",
       "  text-decoration: none;\n",
       "}\n",
       "\n",
       "div.sk-estimator.fitted:hover .sk-estimator-doc-link.fitted:hover,\n",
       ".sk-estimator-doc-link.fitted:hover,\n",
       "div.sk-label-container:hover .sk-estimator-doc-link.fitted:hover,\n",
       ".sk-estimator-doc-link.fitted:hover {\n",
       "  /* fitted */\n",
       "  background-color: var(--sklearn-color-fitted-level-3);\n",
       "  color: var(--sklearn-color-background);\n",
       "  text-decoration: none;\n",
       "}\n",
       "\n",
       "/* Span, style for the box shown on hovering the info icon */\n",
       ".sk-estimator-doc-link span {\n",
       "  display: none;\n",
       "  z-index: 9999;\n",
       "  position: relative;\n",
       "  font-weight: normal;\n",
       "  right: .2ex;\n",
       "  padding: .5ex;\n",
       "  margin: .5ex;\n",
       "  width: min-content;\n",
       "  min-width: 20ex;\n",
       "  max-width: 50ex;\n",
       "  color: var(--sklearn-color-text);\n",
       "  box-shadow: 2pt 2pt 4pt #999;\n",
       "  /* unfitted */\n",
       "  background: var(--sklearn-color-unfitted-level-0);\n",
       "  border: .5pt solid var(--sklearn-color-unfitted-level-3);\n",
       "}\n",
       "\n",
       ".sk-estimator-doc-link.fitted span {\n",
       "  /* fitted */\n",
       "  background: var(--sklearn-color-fitted-level-0);\n",
       "  border: var(--sklearn-color-fitted-level-3);\n",
       "}\n",
       "\n",
       ".sk-estimator-doc-link:hover span {\n",
       "  display: block;\n",
       "}\n",
       "\n",
       "/* \"?\"-specific style due to the `<a>` HTML tag */\n",
       "\n",
       "#sk-container-id-3 a.estimator_doc_link {\n",
       "  float: right;\n",
       "  font-size: 1rem;\n",
       "  line-height: 1em;\n",
       "  font-family: monospace;\n",
       "  background-color: var(--sklearn-color-background);\n",
       "  border-radius: 1rem;\n",
       "  height: 1rem;\n",
       "  width: 1rem;\n",
       "  text-decoration: none;\n",
       "  /* unfitted */\n",
       "  color: var(--sklearn-color-unfitted-level-1);\n",
       "  border: var(--sklearn-color-unfitted-level-1) 1pt solid;\n",
       "}\n",
       "\n",
       "#sk-container-id-3 a.estimator_doc_link.fitted {\n",
       "  /* fitted */\n",
       "  border: var(--sklearn-color-fitted-level-1) 1pt solid;\n",
       "  color: var(--sklearn-color-fitted-level-1);\n",
       "}\n",
       "\n",
       "/* On hover */\n",
       "#sk-container-id-3 a.estimator_doc_link:hover {\n",
       "  /* unfitted */\n",
       "  background-color: var(--sklearn-color-unfitted-level-3);\n",
       "  color: var(--sklearn-color-background);\n",
       "  text-decoration: none;\n",
       "}\n",
       "\n",
       "#sk-container-id-3 a.estimator_doc_link.fitted:hover {\n",
       "  /* fitted */\n",
       "  background-color: var(--sklearn-color-fitted-level-3);\n",
       "}\n",
       "</style><div id=\"sk-container-id-3\" class=\"sk-top-container\"><div class=\"sk-text-repr-fallback\"><pre>RandomizedSearchCV(cv=5,\n",
       "                   estimator=Pipeline(steps=[(&#x27;scaler&#x27;, StandardScaler()),\n",
       "                                             (&#x27;regressor&#x27;,\n",
       "                                              MLPRegressor(random_state=69))]),\n",
       "                   n_iter=50, n_jobs=5,\n",
       "                   param_distributions=[{&#x27;regressor__activation&#x27;: [&#x27;logistic&#x27;,\n",
       "                                                                   &#x27;tanh&#x27;,\n",
       "                                                                   &#x27;relu&#x27;],\n",
       "                                         &#x27;regressor__alpha&#x27;: [0.0001, 0.001,\n",
       "                                                              0.01, 0.1],\n",
       "                                         &#x27;regressor__hidden_layer_sizes&#x27;: [(50,),\n",
       "                                                                           (100,),\n",
       "                                                                           (250,),\n",
       "                                                                           (500,),\n",
       "                                                                           (50,\n",
       "                                                                            50),\n",
       "                                                                           (50,\n",
       "                                                                            100),\n",
       "                                                                           (50,\n",
       "                                                                            250),\n",
       "                                                                           (50,\n",
       "                                                                            5...\n",
       "                                                                           (500,\n",
       "                                                                            50),\n",
       "                                                                           (500,\n",
       "                                                                            100),\n",
       "                                                                           (500,\n",
       "                                                                            250),\n",
       "                                                                           (500,\n",
       "                                                                            500),\n",
       "                                                                           (50,\n",
       "                                                                            50,\n",
       "                                                                            50),\n",
       "                                                                           (50,\n",
       "                                                                            50,\n",
       "                                                                            100),\n",
       "                                                                           (50,\n",
       "                                                                            50,\n",
       "                                                                            250),\n",
       "                                                                           (50,\n",
       "                                                                            50,\n",
       "                                                                            500),\n",
       "                                                                           (50,\n",
       "                                                                            100,\n",
       "                                                                            50),\n",
       "                                                                           (50,\n",
       "                                                                            100,\n",
       "                                                                            100),\n",
       "                                                                           (50,\n",
       "                                                                            100,\n",
       "                                                                            250),\n",
       "                                                                           (50,\n",
       "                                                                            100,\n",
       "                                                                            500),\n",
       "                                                                           (50,\n",
       "                                                                            250,\n",
       "                                                                            50),\n",
       "                                                                           (50,\n",
       "                                                                            250,\n",
       "                                                                            100), ...],\n",
       "                                         &#x27;regressor__learning_rate&#x27;: [&#x27;constant&#x27;,\n",
       "                                                                      &#x27;invscaling&#x27;,\n",
       "                                                                      &#x27;adaptive&#x27;],\n",
       "                                         &#x27;regressor__learning_rate_init&#x27;: [0.1,\n",
       "                                                                           0.01,\n",
       "                                                                           0.001,\n",
       "                                                                           0.0001],\n",
       "                                         &#x27;regressor__max_iter&#x27;: [200, 400, 600,\n",
       "                                                                 800, 1000]}],\n",
       "                   random_state=69)</pre><b>In a Jupyter environment, please rerun this cell to show the HTML representation or trust the notebook. <br />On GitHub, the HTML representation is unable to render, please try loading this page with nbviewer.org.</b></div><div class=\"sk-container\" hidden><div class=\"sk-item sk-dashed-wrapped\"><div class=\"sk-label-container\"><div class=\"sk-label fitted sk-toggleable\"><input class=\"sk-toggleable__control sk-hidden--visually\" id=\"sk-estimator-id-8\" type=\"checkbox\" ><label for=\"sk-estimator-id-8\" class=\"sk-toggleable__label fitted sk-toggleable__label-arrow fitted\">&nbsp;&nbsp;RandomizedSearchCV<a class=\"sk-estimator-doc-link fitted\" rel=\"noreferrer\" target=\"_blank\" href=\"https://scikit-learn.org/1.5/modules/generated/sklearn.model_selection.RandomizedSearchCV.html\">?<span>Documentation for RandomizedSearchCV</span></a><span class=\"sk-estimator-doc-link fitted\">i<span>Fitted</span></span></label><div class=\"sk-toggleable__content fitted\"><pre>RandomizedSearchCV(cv=5,\n",
       "                   estimator=Pipeline(steps=[(&#x27;scaler&#x27;, StandardScaler()),\n",
       "                                             (&#x27;regressor&#x27;,\n",
       "                                              MLPRegressor(random_state=69))]),\n",
       "                   n_iter=50, n_jobs=5,\n",
       "                   param_distributions=[{&#x27;regressor__activation&#x27;: [&#x27;logistic&#x27;,\n",
       "                                                                   &#x27;tanh&#x27;,\n",
       "                                                                   &#x27;relu&#x27;],\n",
       "                                         &#x27;regressor__alpha&#x27;: [0.0001, 0.001,\n",
       "                                                              0.01, 0.1],\n",
       "                                         &#x27;regressor__hidden_layer_sizes&#x27;: [(50,),\n",
       "                                                                           (100,),\n",
       "                                                                           (250,),\n",
       "                                                                           (500,),\n",
       "                                                                           (50,\n",
       "                                                                            50),\n",
       "                                                                           (50,\n",
       "                                                                            100),\n",
       "                                                                           (50,\n",
       "                                                                            250),\n",
       "                                                                           (50,\n",
       "                                                                            5...\n",
       "                                                                           (500,\n",
       "                                                                            50),\n",
       "                                                                           (500,\n",
       "                                                                            100),\n",
       "                                                                           (500,\n",
       "                                                                            250),\n",
       "                                                                           (500,\n",
       "                                                                            500),\n",
       "                                                                           (50,\n",
       "                                                                            50,\n",
       "                                                                            50),\n",
       "                                                                           (50,\n",
       "                                                                            50,\n",
       "                                                                            100),\n",
       "                                                                           (50,\n",
       "                                                                            50,\n",
       "                                                                            250),\n",
       "                                                                           (50,\n",
       "                                                                            50,\n",
       "                                                                            500),\n",
       "                                                                           (50,\n",
       "                                                                            100,\n",
       "                                                                            50),\n",
       "                                                                           (50,\n",
       "                                                                            100,\n",
       "                                                                            100),\n",
       "                                                                           (50,\n",
       "                                                                            100,\n",
       "                                                                            250),\n",
       "                                                                           (50,\n",
       "                                                                            100,\n",
       "                                                                            500),\n",
       "                                                                           (50,\n",
       "                                                                            250,\n",
       "                                                                            50),\n",
       "                                                                           (50,\n",
       "                                                                            250,\n",
       "                                                                            100), ...],\n",
       "                                         &#x27;regressor__learning_rate&#x27;: [&#x27;constant&#x27;,\n",
       "                                                                      &#x27;invscaling&#x27;,\n",
       "                                                                      &#x27;adaptive&#x27;],\n",
       "                                         &#x27;regressor__learning_rate_init&#x27;: [0.1,\n",
       "                                                                           0.01,\n",
       "                                                                           0.001,\n",
       "                                                                           0.0001],\n",
       "                                         &#x27;regressor__max_iter&#x27;: [200, 400, 600,\n",
       "                                                                 800, 1000]}],\n",
       "                   random_state=69)</pre></div> </div></div><div class=\"sk-parallel\"><div class=\"sk-parallel-item\"><div class=\"sk-item\"><div class=\"sk-label-container\"><div class=\"sk-label fitted sk-toggleable\"><input class=\"sk-toggleable__control sk-hidden--visually\" id=\"sk-estimator-id-9\" type=\"checkbox\" ><label for=\"sk-estimator-id-9\" class=\"sk-toggleable__label fitted sk-toggleable__label-arrow fitted\">best_estimator_: Pipeline</label><div class=\"sk-toggleable__content fitted\"><pre>Pipeline(steps=[(&#x27;scaler&#x27;, StandardScaler()),\n",
       "                (&#x27;regressor&#x27;,\n",
       "                 MLPRegressor(activation=&#x27;tanh&#x27;, alpha=0.1,\n",
       "                              hidden_layer_sizes=(250, 250, 500, 250, 100, 100,\n",
       "                                                  500, 100, 250, 250),\n",
       "                              learning_rate=&#x27;adaptive&#x27;, max_iter=400,\n",
       "                              random_state=69))])</pre></div> </div></div><div class=\"sk-serial\"><div class=\"sk-item\"><div class=\"sk-serial\"><div class=\"sk-item\"><div class=\"sk-estimator fitted sk-toggleable\"><input class=\"sk-toggleable__control sk-hidden--visually\" id=\"sk-estimator-id-10\" type=\"checkbox\" ><label for=\"sk-estimator-id-10\" class=\"sk-toggleable__label fitted sk-toggleable__label-arrow fitted\">&nbsp;StandardScaler<a class=\"sk-estimator-doc-link fitted\" rel=\"noreferrer\" target=\"_blank\" href=\"https://scikit-learn.org/1.5/modules/generated/sklearn.preprocessing.StandardScaler.html\">?<span>Documentation for StandardScaler</span></a></label><div class=\"sk-toggleable__content fitted\"><pre>StandardScaler()</pre></div> </div></div><div class=\"sk-item\"><div class=\"sk-estimator fitted sk-toggleable\"><input class=\"sk-toggleable__control sk-hidden--visually\" id=\"sk-estimator-id-11\" type=\"checkbox\" ><label for=\"sk-estimator-id-11\" class=\"sk-toggleable__label fitted sk-toggleable__label-arrow fitted\">&nbsp;MLPRegressor<a class=\"sk-estimator-doc-link fitted\" rel=\"noreferrer\" target=\"_blank\" href=\"https://scikit-learn.org/1.5/modules/generated/sklearn.neural_network.MLPRegressor.html\">?<span>Documentation for MLPRegressor</span></a></label><div class=\"sk-toggleable__content fitted\"><pre>MLPRegressor(activation=&#x27;tanh&#x27;, alpha=0.1,\n",
       "             hidden_layer_sizes=(250, 250, 500, 250, 100, 100, 500, 100, 250,\n",
       "                                 250),\n",
       "             learning_rate=&#x27;adaptive&#x27;, max_iter=400, random_state=69)</pre></div> </div></div></div></div></div></div></div></div></div></div></div>"
      ],
      "text/plain": [
       "RandomizedSearchCV(cv=5,\n",
       "                   estimator=Pipeline(steps=[('scaler', StandardScaler()),\n",
       "                                             ('regressor',\n",
       "                                              MLPRegressor(random_state=69))]),\n",
       "                   n_iter=50, n_jobs=5,\n",
       "                   param_distributions=[{'regressor__activation': ['logistic',\n",
       "                                                                   'tanh',\n",
       "                                                                   'relu'],\n",
       "                                         'regressor__alpha': [0.0001, 0.001,\n",
       "                                                              0.01, 0.1],\n",
       "                                         'regressor__hidden_layer_sizes': [(50,),\n",
       "                                                                           (100,),\n",
       "                                                                           (250,),\n",
       "                                                                           (500,),\n",
       "                                                                           (50,\n",
       "                                                                            50),\n",
       "                                                                           (50,\n",
       "                                                                            100),\n",
       "                                                                           (50,\n",
       "                                                                            250),\n",
       "                                                                           (50,\n",
       "                                                                            5...\n",
       "                                                                           (500,\n",
       "                                                                            50),\n",
       "                                                                           (500,\n",
       "                                                                            100),\n",
       "                                                                           (500,\n",
       "                                                                            250),\n",
       "                                                                           (500,\n",
       "                                                                            500),\n",
       "                                                                           (50,\n",
       "                                                                            50,\n",
       "                                                                            50),\n",
       "                                                                           (50,\n",
       "                                                                            50,\n",
       "                                                                            100),\n",
       "                                                                           (50,\n",
       "                                                                            50,\n",
       "                                                                            250),\n",
       "                                                                           (50,\n",
       "                                                                            50,\n",
       "                                                                            500),\n",
       "                                                                           (50,\n",
       "                                                                            100,\n",
       "                                                                            50),\n",
       "                                                                           (50,\n",
       "                                                                            100,\n",
       "                                                                            100),\n",
       "                                                                           (50,\n",
       "                                                                            100,\n",
       "                                                                            250),\n",
       "                                                                           (50,\n",
       "                                                                            100,\n",
       "                                                                            500),\n",
       "                                                                           (50,\n",
       "                                                                            250,\n",
       "                                                                            50),\n",
       "                                                                           (50,\n",
       "                                                                            250,\n",
       "                                                                            100), ...],\n",
       "                                         'regressor__learning_rate': ['constant',\n",
       "                                                                      'invscaling',\n",
       "                                                                      'adaptive'],\n",
       "                                         'regressor__learning_rate_init': [0.1,\n",
       "                                                                           0.01,\n",
       "                                                                           0.001,\n",
       "                                                                           0.0001],\n",
       "                                         'regressor__max_iter': [200, 400, 600,\n",
       "                                                                 800, 1000]}],\n",
       "                   random_state=69)"
      ]
     },
     "execution_count": 63,
     "metadata": {},
     "output_type": "execute_result"
    }
   ],
   "source": [
    "nn_rscv = RandomizedSearchCV(nn_pipe, nn_hyperparameters, n_iter=50, cv=5, n_jobs=5, random_state=random_seed)\n",
    "nn_rscv.fit(X_train, y_train)"
   ]
  },
  {
   "cell_type": "code",
   "execution_count": 64,
   "metadata": {},
   "outputs": [
    {
     "name": "stdout",
     "output_type": "stream",
     "text": [
      "Tuned Neural Network Train Score: 0.45795263992474067\n",
      "Tuned Neural Network Validation Score: 0.44399489365376277\n",
      "Tuned Neural Network Test Score: 0.21405551428987302\n"
     ]
    }
   ],
   "source": [
    "nn_train_score = nn_rscv.score(X_train, y_train)\n",
    "nn_val_score = nn_rscv.score(X_val, y_val)\n",
    "nn_test_score = nn_rscv.score(X_test, y_test)\n",
    "\n",
    "print('Tuned Neural Network Train Score:', nn_train_score)\n",
    "print('Tuned Neural Network Validation Score:', nn_val_score)\n",
    "print('Tuned Neural Network Test Score:', nn_test_score)"
   ]
  },
  {
   "cell_type": "code",
   "execution_count": 65,
   "metadata": {},
   "outputs": [
    {
     "data": {
      "text/plain": [
       "{'regressor__max_iter': 400,\n",
       " 'regressor__learning_rate_init': 0.001,\n",
       " 'regressor__learning_rate': 'adaptive',\n",
       " 'regressor__hidden_layer_sizes': (250,\n",
       "  250,\n",
       "  500,\n",
       "  250,\n",
       "  100,\n",
       "  100,\n",
       "  500,\n",
       "  100,\n",
       "  250,\n",
       "  250),\n",
       " 'regressor__alpha': 0.1,\n",
       " 'regressor__activation': 'tanh'}"
      ]
     },
     "execution_count": 65,
     "metadata": {},
     "output_type": "execute_result"
    }
   ],
   "source": [
    "nn_rscv.best_params_"
   ]
  },
  {
   "cell_type": "markdown",
   "metadata": {},
   "source": [
    "# IX. Model Performance Summary"
   ]
  },
  {
   "cell_type": "markdown",
   "metadata": {},
   "source": [
    "## IX-A. Linear Regression"
   ]
  },
  {
   "cell_type": "markdown",
   "metadata": {},
   "source": [
    "## IX-B. Decision Trees"
   ]
  },
  {
   "cell_type": "markdown",
   "metadata": {},
   "source": [
    "## IX-C. Neural Network"
   ]
  },
  {
   "cell_type": "markdown",
   "metadata": {},
   "source": [
    "# X. Insights and Conclusions"
   ]
  },
  {
   "cell_type": "markdown",
   "metadata": {},
   "source": [
    "# XI. References"
   ]
  }
 ],
 "metadata": {
  "kernelspec": {
   "display_name": "Python 3",
   "language": "python",
   "name": "python3"
  },
  "language_info": {
   "codemirror_mode": {
    "name": "ipython",
    "version": 3
   },
   "file_extension": ".py",
   "mimetype": "text/x-python",
   "name": "python",
   "nbconvert_exporter": "python",
   "pygments_lexer": "ipython3",
   "version": "3.12.2"
  }
 },
 "nbformat": 4,
 "nbformat_minor": 2
}
