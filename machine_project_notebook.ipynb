{
 "cells": [
  {
   "cell_type": "markdown",
   "metadata": {},
   "source": [
    "## I. Introduction to the Problem and Dataset"
   ]
  },
  {
   "cell_type": "code",
   "execution_count": 42,
   "metadata": {},
   "outputs": [
    {
     "name": "stdout",
     "output_type": "stream",
     "text": [
      "Hello World!\n"
     ]
    }
   ],
   "source": [
    "print(\"Hello World!\")"
   ]
  },
  {
   "cell_type": "markdown",
   "metadata": {},
   "source": [
    "## II. Description of the dataset"
   ]
  },
  {
   "cell_type": "markdown",
   "metadata": {},
   "source": [
    "## III. List of requirements"
   ]
  },
  {
   "cell_type": "code",
   "execution_count": 43,
   "metadata": {},
   "outputs": [],
   "source": [
    "# grab the dataset \n",
    "import pandas as pd\n",
    "import numpy as np\n",
    "import matplotlib.pyplot as plt\n",
    "\n",
    "# load the dataset from Dataset folder\n",
    "og_df = pd.read_csv('Dataset 2 - Garments Dataset/garments.csv')\n",
    "df = pd.read_csv('Dataset 2 - Garments Dataset/garments.csv')"
   ]
  },
  {
   "cell_type": "markdown",
   "metadata": {},
   "source": [
    "## IV. Data Preprocessing and Cleaning\n"
   ]
  },
  {
   "cell_type": "code",
   "execution_count": 44,
   "metadata": {},
   "outputs": [
    {
     "name": "stdout",
     "output_type": "stream",
     "text": [
      "date                       0\n",
      "quarter                    0\n",
      "department                 0\n",
      "day                        0\n",
      "team                       0\n",
      "targeted_productivity      0\n",
      "smv                        0\n",
      "wip                      506\n",
      "over_time                  0\n",
      "incentive                  0\n",
      "idle_time                  0\n",
      "idle_men                   0\n",
      "no_of_style_change         0\n",
      "no_of_workers              0\n",
      "actual_productivity        0\n",
      "dtype: int64\n"
     ]
    }
   ],
   "source": [
    "# check for NaN values\n",
    "print(df.isnull().sum())"
   ]
  },
  {
   "cell_type": "code",
   "execution_count": 45,
   "metadata": {},
   "outputs": [],
   "source": [
    "# change all the NaN values to 0\n",
    "df = df.fillna(0)"
   ]
  },
  {
   "cell_type": "code",
   "execution_count": 46,
   "metadata": {},
   "outputs": [
    {
     "name": "stdout",
     "output_type": "stream",
     "text": [
      "['sweing' 'finishing ' 'finishing']\n",
      "['sewing' 'finishing']\n"
     ]
    }
   ],
   "source": [
    "# check department column\n",
    "print(df['department'].unique())\n",
    "\n",
    "# change all 'finishing ' to 'finishing'\n",
    "df['department'] = df['department'].replace('finishing ', 'finishing')\n",
    "df['department'] = df['department'].replace('sweing', 'sewing')\n",
    "print(df['department'].unique())"
   ]
  },
  {
   "cell_type": "code",
   "execution_count": 47,
   "metadata": {},
   "outputs": [
    {
     "name": "stdout",
     "output_type": "stream",
     "text": [
      "date                      object\n",
      "quarter                   object\n",
      "department                object\n",
      "day                       object\n",
      "team                       int64\n",
      "targeted_productivity    float64\n",
      "smv                      float64\n",
      "wip                      float64\n",
      "over_time                  int64\n",
      "incentive                  int64\n",
      "idle_time                float64\n",
      "idle_men                   int64\n",
      "no_of_style_change         int64\n",
      "no_of_workers            float64\n",
      "actual_productivity      float64\n",
      "dtype: object\n"
     ]
    }
   ],
   "source": [
    "#check datatypes for all columns\n",
    "print(df.dtypes)"
   ]
  },
  {
   "cell_type": "code",
   "execution_count": 48,
   "metadata": {},
   "outputs": [
    {
     "name": "stdout",
     "output_type": "stream",
     "text": [
      "department\n",
      "sewing       691\n",
      "finishing    506\n",
      "Name: count, dtype: int64\n"
     ]
    }
   ],
   "source": [
    "print(df['department'].value_counts())"
   ]
  },
  {
   "cell_type": "code",
   "execution_count": 49,
   "metadata": {},
   "outputs": [
    {
     "name": "stdout",
     "output_type": "stream",
     "text": [
      "quarter\n",
      "Quarter1    360\n",
      "Quarter2    335\n",
      "Quarter4    248\n",
      "Quarter3    210\n",
      "Quarter5     44\n",
      "Name: count, dtype: int64\n"
     ]
    }
   ],
   "source": [
    "print(df['quarter'].value_counts())"
   ]
  },
  {
   "cell_type": "code",
   "execution_count": 50,
   "metadata": {},
   "outputs": [
    {
     "name": "stdout",
     "output_type": "stream",
     "text": [
      "day\n",
      "Wednesday    208\n",
      "Sunday       203\n",
      "Tuesday      201\n",
      "Thursday     199\n",
      "Monday       199\n",
      "Saturday     187\n",
      "Name: count, dtype: int64\n"
     ]
    }
   ],
   "source": [
    "print(df['day'].value_counts())"
   ]
  },
  {
   "cell_type": "code",
   "execution_count": 51,
   "metadata": {},
   "outputs": [
    {
     "name": "stdout",
     "output_type": "stream",
     "text": [
      "team\n",
      "8     109\n",
      "2     109\n",
      "1     105\n",
      "4     105\n",
      "9     104\n",
      "10    100\n",
      "12     99\n",
      "7      96\n",
      "3      95\n",
      "6      94\n",
      "5      93\n",
      "11     88\n",
      "Name: count, dtype: int64\n"
     ]
    }
   ],
   "source": [
    "print(df['team'].value_counts())"
   ]
  },
  {
   "cell_type": "code",
   "execution_count": 52,
   "metadata": {},
   "outputs": [
    {
     "name": "stdout",
     "output_type": "stream",
     "text": [
      "targeted_productivity\n",
      "0.80    540\n",
      "0.70    242\n",
      "0.75    216\n",
      "0.65     63\n",
      "0.60     57\n",
      "0.50     49\n",
      "0.35     27\n",
      "0.40      2\n",
      "0.07      1\n",
      "Name: count, dtype: int64\n"
     ]
    }
   ],
   "source": [
    "print(df['targeted_productivity'].value_counts())"
   ]
  },
  {
   "cell_type": "code",
   "execution_count": 53,
   "metadata": {},
   "outputs": [
    {
     "name": "stdout",
     "output_type": "stream",
     "text": [
      "smv\n",
      "3.94     192\n",
      "2.90     108\n",
      "22.52    103\n",
      "30.10     79\n",
      "4.15      76\n",
      "        ... \n",
      "48.68      1\n",
      "54.56      1\n",
      "41.19      1\n",
      "49.10      1\n",
      "40.99      1\n",
      "Name: count, Length: 70, dtype: int64\n"
     ]
    }
   ],
   "source": [
    "print(df['smv'].value_counts())"
   ]
  },
  {
   "cell_type": "code",
   "execution_count": 54,
   "metadata": {},
   "outputs": [
    {
     "name": "stdout",
     "output_type": "stream",
     "text": [
      "wip\n",
      "0.0       506\n",
      "1039.0      5\n",
      "1282.0      4\n",
      "1422.0      3\n",
      "1216.0      3\n",
      "         ... \n",
      "1635.0      1\n",
      "1519.0      1\n",
      "1337.0      1\n",
      "1118.0      1\n",
      "914.0       1\n",
      "Name: count, Length: 549, dtype: int64\n"
     ]
    }
   ],
   "source": [
    "print(df['wip'].value_counts())"
   ]
  },
  {
   "cell_type": "code",
   "execution_count": 55,
   "metadata": {},
   "outputs": [
    {
     "name": "stdout",
     "output_type": "stream",
     "text": [
      "           date   quarter department        day  team  targeted_productivity  \\\n",
      "1      1/1/2015  Quarter1  finishing   Thursday     1                   0.75   \n",
      "6      1/1/2015  Quarter1  finishing   Thursday     2                   0.75   \n",
      "13     1/1/2015  Quarter1  finishing   Thursday    10                   0.65   \n",
      "14     1/1/2015  Quarter1  finishing   Thursday     8                   0.75   \n",
      "15     1/1/2015  Quarter1  finishing   Thursday     4                   0.75   \n",
      "...         ...       ...        ...        ...   ...                    ...   \n",
      "1192  3/11/2015  Quarter2  finishing  Wednesday    10                   0.75   \n",
      "1193  3/11/2015  Quarter2  finishing  Wednesday     8                   0.70   \n",
      "1194  3/11/2015  Quarter2  finishing  Wednesday     7                   0.65   \n",
      "1195  3/11/2015  Quarter2  finishing  Wednesday     9                   0.75   \n",
      "1196  3/11/2015  Quarter2  finishing  Wednesday     6                   0.70   \n",
      "\n",
      "       smv  wip  over_time  incentive  idle_time  idle_men  \\\n",
      "1     3.94  0.0        960          0        0.0         0   \n",
      "6     3.94  0.0        960          0        0.0         0   \n",
      "13    3.94  0.0        960          0        0.0         0   \n",
      "14    2.90  0.0        960          0        0.0         0   \n",
      "15    3.94  0.0       2160          0        0.0         0   \n",
      "...    ...  ...        ...        ...        ...       ...   \n",
      "1192  2.90  0.0        960          0        0.0         0   \n",
      "1193  3.90  0.0        960          0        0.0         0   \n",
      "1194  3.90  0.0        960          0        0.0         0   \n",
      "1195  2.90  0.0       1800          0        0.0         0   \n",
      "1196  2.90  0.0        720          0        0.0         0   \n",
      "\n",
      "      no_of_style_change  no_of_workers  actual_productivity  \n",
      "1                      0            8.0             0.886500  \n",
      "6                      0            8.0             0.755167  \n",
      "13                     0            8.0             0.705917  \n",
      "14                     0            8.0             0.676667  \n",
      "15                     0           18.0             0.593056  \n",
      "...                  ...            ...                  ...  \n",
      "1192                   0            8.0             0.628333  \n",
      "1193                   0            8.0             0.625625  \n",
      "1194                   0            8.0             0.625625  \n",
      "1195                   0           15.0             0.505889  \n",
      "1196                   0            6.0             0.394722  \n",
      "\n",
      "[506 rows x 15 columns]\n"
     ]
    }
   ],
   "source": [
    "# get all rows with 0 wip\n",
    "print(df[df['wip'] == 0])"
   ]
  },
  {
   "cell_type": "code",
   "execution_count": 56,
   "metadata": {},
   "outputs": [
    {
     "name": "stdout",
     "output_type": "stream",
     "text": [
      "over_time\n",
      "960      129\n",
      "1440     111\n",
      "6960      61\n",
      "6840      48\n",
      "1200      39\n",
      "        ... \n",
      "4140       1\n",
      "12180      1\n",
      "10770      1\n",
      "12000      1\n",
      "3120       1\n",
      "Name: count, Length: 143, dtype: int64\n"
     ]
    }
   ],
   "source": [
    "print(df['over_time'].value_counts())"
   ]
  },
  {
   "cell_type": "code",
   "execution_count": 57,
   "metadata": {},
   "outputs": [
    {
     "name": "stdout",
     "output_type": "stream",
     "text": [
      "Empty DataFrame\n",
      "Columns: [date, quarter, department, day, team, targeted_productivity, smv, wip, over_time, incentive, idle_time, idle_men, no_of_style_change, no_of_workers, actual_productivity]\n",
      "Index: []\n"
     ]
    }
   ],
   "source": [
    "# print incentives with less than 0 \n",
    "print(df[df['incentive'] < 0])"
   ]
  },
  {
   "cell_type": "code",
   "execution_count": 58,
   "metadata": {},
   "outputs": [
    {
     "name": "stdout",
     "output_type": "stream",
     "text": [
      "idle_time\n",
      "0.0      1179\n",
      "3.5         3\n",
      "2.0         2\n",
      "5.0         2\n",
      "8.0         2\n",
      "4.5         2\n",
      "4.0         2\n",
      "90.0        1\n",
      "150.0       1\n",
      "270.0       1\n",
      "300.0       1\n",
      "6.5         1\n",
      "Name: count, dtype: int64\n"
     ]
    }
   ],
   "source": [
    "print(df['idle_time'].value_counts())"
   ]
  },
  {
   "cell_type": "code",
   "execution_count": 59,
   "metadata": {},
   "outputs": [
    {
     "name": "stdout",
     "output_type": "stream",
     "text": [
      "idle_men\n",
      "0     1179\n",
      "10       3\n",
      "15       3\n",
      "30       3\n",
      "20       3\n",
      "35       2\n",
      "45       1\n",
      "37       1\n",
      "25       1\n",
      "40       1\n",
      "Name: count, dtype: int64\n"
     ]
    }
   ],
   "source": [
    "print(df['idle_men'].value_counts())"
   ]
  },
  {
   "cell_type": "code",
   "execution_count": 60,
   "metadata": {},
   "outputs": [
    {
     "name": "stdout",
     "output_type": "stream",
     "text": [
      "no_of_style_change\n",
      "0    1050\n",
      "1     114\n",
      "2      33\n",
      "Name: count, dtype: int64\n"
     ]
    }
   ],
   "source": [
    "print(df['no_of_style_change'].value_counts())"
   ]
  },
  {
   "cell_type": "code",
   "execution_count": 61,
   "metadata": {},
   "outputs": [
    {
     "name": "stdout",
     "output_type": "stream",
     "text": [
      "0    59.0\n",
      "1     8.0\n",
      "2    30.5\n",
      "3    30.5\n",
      "4    56.0\n",
      "Name: no_of_workers, dtype: float64\n",
      "0    59.0\n",
      "1     8.0\n",
      "2    30.0\n",
      "3    30.0\n",
      "4    56.0\n",
      "Name: no_of_workers, dtype: float64\n"
     ]
    }
   ],
   "source": [
    "print(df['no_of_workers'].head())\n",
    "# round down the no_of_workers\n",
    "df['no_of_workers'] = np.floor(df['no_of_workers'])\n",
    "print(df['no_of_workers'].head())"
   ]
  },
  {
   "cell_type": "code",
   "execution_count": 62,
   "metadata": {},
   "outputs": [
    {
     "name": "stdout",
     "output_type": "stream",
     "text": [
      "actual_productivity\n",
      "0.800402    24\n",
      "0.971867    12\n",
      "0.850137    12\n",
      "0.750651    11\n",
      "0.850502    11\n",
      "            ..\n",
      "0.800034     1\n",
      "0.800024     1\n",
      "0.769293     1\n",
      "0.750031     1\n",
      "0.394722     1\n",
      "Name: count, Length: 879, dtype: int64\n",
      "          date   quarter department        day  team  targeted_productivity  \\\n",
      "337  1/20/2015  Quarter3  finishing    Tuesday     5                   0.70   \n",
      "437  1/26/2015  Quarter4  finishing     Monday     3                   0.75   \n",
      "456  1/27/2015  Quarter4     sewing    Tuesday     2                   0.75   \n",
      "457  1/27/2015  Quarter4     sewing    Tuesday     3                   0.75   \n",
      "477  1/28/2015  Quarter4     sewing  Wednesday     2                   0.80   \n",
      "478  1/28/2015  Quarter4     sewing  Wednesday     3                   0.80   \n",
      "498  1/29/2015  Quarter5     sewing   Thursday     2                   0.80   \n",
      "518  1/31/2015  Quarter5     sewing   Saturday     3                   0.80   \n",
      "519  1/31/2015  Quarter5     sewing   Saturday     2                   0.80   \n",
      "542   2/1/2015  Quarter1  finishing     Sunday     8                   0.65   \n",
      "543   2/1/2015  Quarter1     sewing     Sunday     2                   0.80   \n",
      "544   2/1/2015  Quarter1     sewing     Sunday     1                   0.80   \n",
      "561   2/2/2015  Quarter1     sewing     Monday     1                   0.80   \n",
      "580   2/3/2015  Quarter1  finishing    Tuesday     2                   0.80   \n",
      "581   2/3/2015  Quarter1     sewing    Tuesday     1                   0.80   \n",
      "599   2/4/2015  Quarter1     sewing  Wednesday     2                   0.80   \n",
      "600   2/4/2015  Quarter1     sewing  Wednesday     3                   0.80   \n",
      "618   2/5/2015  Quarter1     sewing   Thursday     2                   0.80   \n",
      "619   2/5/2015  Quarter1     sewing   Thursday     1                   0.80   \n",
      "636   2/7/2015  Quarter1  finishing   Saturday     2                   0.80   \n",
      "637   2/7/2015  Quarter1     sewing   Saturday     2                   0.80   \n",
      "655   2/8/2015  Quarter2     sewing     Sunday     2                   0.80   \n",
      "674   2/9/2015  Quarter2  finishing     Monday     2                   0.80   \n",
      "692  2/10/2015  Quarter2  finishing    Tuesday    12                   0.80   \n",
      "711  2/11/2015  Quarter2  finishing  Wednesday     4                   0.70   \n",
      "712  2/11/2015  Quarter2  finishing  Wednesday    12                   0.80   \n",
      "713  2/11/2015  Quarter2     sewing  Wednesday     2                   0.80   \n",
      "714  2/11/2015  Quarter2     sewing  Wednesday     1                   0.80   \n",
      "730  2/12/2015  Quarter2     sewing   Thursday     1                   0.80   \n",
      "731  2/12/2015  Quarter2  finishing   Thursday     4                   0.70   \n",
      "732  2/12/2015  Quarter2     sewing   Thursday     2                   0.80   \n",
      "749  2/14/2015  Quarter2     sewing   Saturday     1                   0.80   \n",
      "766  2/15/2015  Quarter3  finishing     Sunday     1                   0.80   \n",
      "767  2/15/2015  Quarter3  finishing     Sunday     2                   0.80   \n",
      "768  2/15/2015  Quarter3     sewing     Sunday     1                   0.80   \n",
      "785  2/16/2015  Quarter3     sewing     Monday     1                   0.80   \n",
      "803  2/17/2015  Quarter3     sewing    Tuesday     1                   0.80   \n",
      "\n",
      "       smv      wip  over_time  incentive  idle_time  idle_men  \\\n",
      "337   4.15      0.0       1440          0        0.0         0   \n",
      "437   3.94      0.0       1800          0        0.0         0   \n",
      "456  22.52   1635.0       6840        119        0.0         0   \n",
      "457  22.52   1299.0       6840        119        0.0         0   \n",
      "477  22.52   1559.0       6840         90        0.0         0   \n",
      "478  22.52   1350.0       6840        113        0.0         0   \n",
      "498  22.52   1416.0       6840        113        0.0         0   \n",
      "518  22.52   1136.0       6960        113        0.0         0   \n",
      "519  22.52   1397.0       6840        113        0.0         0   \n",
      "542   4.15      0.0        960          0        0.0         0   \n",
      "543  22.52   1396.0       6900        113        0.0         0   \n",
      "544  22.94   1582.0       3060        113        0.0         0   \n",
      "561  22.94  16882.0       7020        113        0.0         0   \n",
      "580   3.94      0.0       2400          0        0.0         0   \n",
      "581  22.52   1500.0       6900        113        0.0         0   \n",
      "599  22.52   1263.0       6900        100        0.0         0   \n",
      "600  22.52    968.0       6840        113        0.0         0   \n",
      "618  22.52   1300.0       6780        113        0.0         0   \n",
      "619  22.52   1485.0       6900        113        0.0         0   \n",
      "636   3.94      0.0       3000          0        0.0         0   \n",
      "637  22.52   1186.0       6900        113        0.0         0   \n",
      "655  22.52   1233.0       6900        113        0.0         0   \n",
      "674   3.94      0.0       2160          0        0.0         0   \n",
      "692   4.08      0.0       1080          0        0.0         0   \n",
      "711   4.15      0.0       1800          0        0.0         0   \n",
      "712   4.08      0.0       1080          0        0.0         0   \n",
      "713  22.52   1557.0          0         90        0.0         0   \n",
      "714  22.52   1498.0          0        113        0.0         0   \n",
      "730  22.52   1397.0          0        138        0.0         0   \n",
      "731   4.15      0.0       1800          0        0.0         0   \n",
      "732  22.52   1327.0          0        113        0.0         0   \n",
      "749  22.52   1416.0       6840        113        0.0         0   \n",
      "766   3.94      0.0        960          0        0.0         0   \n",
      "767   3.94      0.0        960          0        0.0         0   \n",
      "768  22.52   1420.0       6840        113        0.0         0   \n",
      "785  22.52   1422.0       6840        113        0.0         0   \n",
      "803  22.52   1445.0       6840        113        0.0         0   \n",
      "\n",
      "     no_of_style_change  no_of_workers  actual_productivity  \n",
      "337                   0            8.0             1.033570  \n",
      "437                   0           10.0             1.059621  \n",
      "456                   0           57.0             1.000230  \n",
      "457                   0           57.0             1.000230  \n",
      "477                   0           57.0             1.000230  \n",
      "478                   0           57.0             1.000230  \n",
      "498                   0           57.0             1.000230  \n",
      "518                   0           58.0             1.000457  \n",
      "519                   0           57.0             1.000230  \n",
      "542                   0            8.0             1.011562  \n",
      "543                   0           57.0             1.000671  \n",
      "544                   0           58.0             1.000402  \n",
      "561                   0           58.0             1.000602  \n",
      "580                   0           20.0             1.001417  \n",
      "581                   0           57.0             1.000019  \n",
      "599                   0           57.0             1.050281  \n",
      "600                   0           57.0             1.000230  \n",
      "618                   0           56.0             1.000446  \n",
      "619                   0           57.0             1.000019  \n",
      "636                   0           25.0             1.050667  \n",
      "637                   0           58.0             1.000019  \n",
      "655                   0           57.0             1.000019  \n",
      "674                   0           18.0             1.057963  \n",
      "692                   0            9.0             1.004889  \n",
      "711                   0           15.0             1.033156  \n",
      "712                   0            9.0             1.020000  \n",
      "713                   0           57.0             1.000345  \n",
      "714                   0           57.0             1.000066  \n",
      "730                   0           57.0             1.100484  \n",
      "731                   0           15.0             1.096633  \n",
      "732                   0           57.0             1.000345  \n",
      "749                   0           57.0             1.000230  \n",
      "766                   0            8.0             1.120437  \n",
      "767                   0            8.0             1.108125  \n",
      "768                   0           57.0             1.000230  \n",
      "785                   0           57.0             1.000230  \n",
      "803                   0           57.0             1.000230  \n"
     ]
    }
   ],
   "source": [
    "print(df['actual_productivity'].value_counts())\n",
    "# print actual_productivity where it is < 0 or > 1\n",
    "print(df[(df['actual_productivity'] < 0) | (df['actual_productivity'] > 1)])"
   ]
  },
  {
   "cell_type": "code",
   "execution_count": 63,
   "metadata": {},
   "outputs": [
    {
     "name": "stdout",
     "output_type": "stream",
     "text": [
      "Empty DataFrame\n",
      "Columns: [date, quarter, department, day, team, targeted_productivity, smv, wip, over_time, incentive, idle_time, idle_men, no_of_style_change, no_of_workers, actual_productivity]\n",
      "Index: []\n"
     ]
    }
   ],
   "source": [
    "# round down the actual_productivity if it is > 1\n",
    "df['actual_productivity'] = np.where(df['actual_productivity'] > 1, 1, df['actual_productivity'])\n",
    "print(df[(df['actual_productivity'] < 0) | (df['actual_productivity'] > 1)])"
   ]
  },
  {
   "cell_type": "code",
   "execution_count": 64,
   "metadata": {},
   "outputs": [],
   "source": [
    "#drop date\n",
    "df = df.drop('date', axis=1)"
   ]
  },
  {
   "cell_type": "code",
   "execution_count": 65,
   "metadata": {},
   "outputs": [
    {
     "name": "stdout",
     "output_type": "stream",
     "text": [
      "0\n"
     ]
    }
   ],
   "source": [
    "# check for duplicates\n",
    "print(df.duplicated().sum())"
   ]
  },
  {
   "cell_type": "code",
   "execution_count": 66,
   "metadata": {},
   "outputs": [
    {
     "name": "stdout",
     "output_type": "stream",
     "text": [
      "Empty DataFrame\n",
      "Columns: [quarter, department, day, team, targeted_productivity, smv, wip, over_time, incentive, idle_time, idle_men, no_of_style_change, no_of_workers, actual_productivity]\n",
      "Index: []\n"
     ]
    }
   ],
   "source": [
    "#check if any numerical value is less than 0\n",
    "print(df[(df.select_dtypes(include=[np.number]) < 0).any(axis=1)])"
   ]
  },
  {
   "cell_type": "code",
   "execution_count": 67,
   "metadata": {},
   "outputs": [
    {
     "name": "stdout",
     "output_type": "stream",
     "text": [
      "quarter                   object\n",
      "department                object\n",
      "day                       object\n",
      "team                       int64\n",
      "targeted_productivity    float64\n",
      "smv                      float64\n",
      "wip                      float64\n",
      "over_time                  int64\n",
      "incentive                  int64\n",
      "idle_time                float64\n",
      "idle_men                   int64\n",
      "no_of_style_change         int64\n",
      "no_of_workers            float64\n",
      "actual_productivity      float64\n",
      "dtype: object\n"
     ]
    }
   ],
   "source": [
    "# print all datatypes\n",
    "print(df.dtypes)"
   ]
  },
  {
   "cell_type": "code",
   "execution_count": 68,
   "metadata": {},
   "outputs": [
    {
     "name": "stdout",
     "output_type": "stream",
     "text": [
      "(490, 15)\n",
      "(70, 15)\n",
      "(16, 15)\n",
      "(2, 15)\n"
     ]
    }
   ],
   "source": [
    "# calculate overtime per worker\n",
    "df['overtime_per_worker'] = df['over_time'] / df['no_of_workers']\n",
    "print(df[df['overtime_per_worker'] > 120].shape)\n",
    "print(df[df['overtime_per_worker'] > 240].shape)\n",
    "print(df[df['overtime_per_worker'] > 420].shape)\n",
    "print(df[df['overtime_per_worker'] > 600].shape)"
   ]
  },
  {
   "cell_type": "code",
   "execution_count": 69,
   "metadata": {},
   "outputs": [
    {
     "name": "stdout",
     "output_type": "stream",
     "text": [
      "Empty DataFrame\n",
      "Columns: [quarter, department, day, team, targeted_productivity, smv, wip, over_time, incentive, idle_time, idle_men, no_of_style_change, no_of_workers, actual_productivity, overtime_per_worker]\n",
      "Index: []\n"
     ]
    }
   ],
   "source": [
    "# print all idle_men with decimal values\n",
    "print(df[df['idle_men'] % 1 != 0])"
   ]
  },
  {
   "cell_type": "code",
   "execution_count": 70,
   "metadata": {},
   "outputs": [
    {
     "name": "stdout",
     "output_type": "stream",
     "text": [
      "Empty DataFrame\n",
      "Columns: [quarter, department, day, team, targeted_productivity, smv, wip, over_time, incentive, idle_time, idle_men, no_of_style_change, no_of_workers, actual_productivity, overtime_per_worker]\n",
      "Index: []\n"
     ]
    }
   ],
   "source": [
    "#print all rows with idle time = 0 and idle_men > 0\n",
    "print(df[(df['idle_time'] == 0) & (df['idle_men'] > 0)])"
   ]
  },
  {
   "cell_type": "code",
   "execution_count": 71,
   "metadata": {},
   "outputs": [
    {
     "name": "stdout",
     "output_type": "stream",
     "text": [
      "team                       int64\n",
      "targeted_productivity    float64\n",
      "smv                      float64\n",
      "wip                      float64\n",
      "over_time                  int64\n",
      "incentive                  int64\n",
      "idle_time                float64\n",
      "idle_men                   int64\n",
      "no_of_style_change         int64\n",
      "no_of_workers            float64\n",
      "actual_productivity      float64\n",
      "overtime_per_worker      float64\n",
      "department_finishing        bool\n",
      "department_sewing           bool\n",
      "day_Monday                  bool\n",
      "day_Saturday                bool\n",
      "day_Sunday                  bool\n",
      "day_Thursday                bool\n",
      "day_Tuesday                 bool\n",
      "day_Wednesday               bool\n",
      "quarter_Quarter1            bool\n",
      "quarter_Quarter2            bool\n",
      "quarter_Quarter3            bool\n",
      "quarter_Quarter4            bool\n",
      "quarter_Quarter5            bool\n",
      "dtype: object\n"
     ]
    }
   ],
   "source": [
    "# turn department, day, and quarter into one-hot encoding\n",
    "df = pd.get_dummies(df, columns=['department', 'day', 'quarter'])\n",
    "# print all datatypes\n",
    "print(df.dtypes)"
   ]
  },
  {
   "cell_type": "code",
   "execution_count": 72,
   "metadata": {},
   "outputs": [
    {
     "name": "stdout",
     "output_type": "stream",
     "text": [
      "      targeted_productivity  idle_men  idle_time  actual_productivity  \\\n",
      "1                      0.75         0        0.0             0.886500   \n",
      "6                      0.75         0        0.0             0.755167   \n",
      "13                     0.65         0        0.0             0.705917   \n",
      "14                     0.75         0        0.0             0.676667   \n",
      "15                     0.75         0        0.0             0.593056   \n",
      "...                     ...       ...        ...                  ...   \n",
      "1192                   0.75         0        0.0             0.628333   \n",
      "1193                   0.70         0        0.0             0.625625   \n",
      "1194                   0.65         0        0.0             0.625625   \n",
      "1195                   0.75         0        0.0             0.505889   \n",
      "1196                   0.70         0        0.0             0.394722   \n",
      "\n",
      "      incentive  over_time  wip   smv  \n",
      "1             0        960  0.0  3.94  \n",
      "6             0        960  0.0  3.94  \n",
      "13            0        960  0.0  3.94  \n",
      "14            0        960  0.0  2.90  \n",
      "15            0       2160  0.0  3.94  \n",
      "...         ...        ...  ...   ...  \n",
      "1192          0        960  0.0  2.90  \n",
      "1193          0        960  0.0  3.90  \n",
      "1194          0        960  0.0  3.90  \n",
      "1195          0       1800  0.0  2.90  \n",
      "1196          0        720  0.0  2.90  \n",
      "\n",
      "[600 rows x 8 columns]\n"
     ]
    }
   ],
   "source": [
    "#check for days where there are no incentives but have overtime (trim to targeted_productivity, idle_men, idle_time, and actual_productivity)\n",
    "print(df[(df['incentive'] == 0) & (df['over_time'] > 0)][['targeted_productivity', 'idle_men', 'idle_time', 'actual_productivity', 'incentive', 'over_time', 'wip', 'smv']])\n",
    "\n",
    "# TODO SOMETHING HERE"
   ]
  },
  {
   "cell_type": "code",
   "execution_count": 73,
   "metadata": {},
   "outputs": [
    {
     "name": "stdout",
     "output_type": "stream",
     "text": [
      "      targeted_productivity  idle_men  idle_time  actual_productivity  \\\n",
      "0                      0.80         0        0.0             0.940725   \n",
      "2                      0.80         0        0.0             0.800570   \n",
      "3                      0.80         0        0.0             0.800570   \n",
      "4                      0.80         0        0.0             0.800382   \n",
      "5                      0.80         0        0.0             0.800125   \n",
      "...                     ...       ...        ...                  ...   \n",
      "1187                   0.75         0        0.0             0.750051   \n",
      "1188                   0.70         0        0.0             0.700557   \n",
      "1189                   0.70         0        0.0             0.700505   \n",
      "1190                   0.70         0        0.0             0.700246   \n",
      "1191                   0.65         0        0.0             0.650596   \n",
      "\n",
      "      incentive  over_time     wip    smv  \n",
      "0            98       7080  1108.0  26.16  \n",
      "2            50       3660   968.0  11.41  \n",
      "3            50       3660   968.0  11.41  \n",
      "4            50       1920  1170.0  25.90  \n",
      "5            38       6720   984.0  25.90  \n",
      "...         ...        ...     ...    ...  \n",
      "1187         45       7080  1054.0  26.82  \n",
      "1188         30       6960   992.0  26.82  \n",
      "1189         30       6840   914.0  30.48  \n",
      "1190         40       4560  1128.0  23.41  \n",
      "1191         26       6840   935.0  30.48  \n",
      "\n",
      "[566 rows x 8 columns]\n"
     ]
    }
   ],
   "source": [
    "#check overtime and incentive relationship\n",
    "print(df[(df['incentive'] > 0) & (df['over_time'] > 0)][['targeted_productivity', 'idle_men', 'idle_time', 'actual_productivity', 'incentive', 'over_time', 'wip', 'smv']])"
   ]
  },
  {
   "cell_type": "code",
   "execution_count": 74,
   "metadata": {},
   "outputs": [
    {
     "name": "stdout",
     "output_type": "stream",
     "text": [
      "<class 'pandas.core.frame.DataFrame'>\n",
      "RangeIndex: 1197 entries, 0 to 1196\n",
      "Data columns (total 25 columns):\n",
      " #   Column                 Non-Null Count  Dtype  \n",
      "---  ------                 --------------  -----  \n",
      " 0   team                   1197 non-null   int64  \n",
      " 1   targeted_productivity  1197 non-null   float64\n",
      " 2   smv                    1197 non-null   float64\n",
      " 3   wip                    1197 non-null   float64\n",
      " 4   over_time              1197 non-null   int64  \n",
      " 5   incentive              1197 non-null   int64  \n",
      " 6   idle_time              1197 non-null   float64\n",
      " 7   idle_men               1197 non-null   int64  \n",
      " 8   no_of_style_change     1197 non-null   int64  \n",
      " 9   no_of_workers          1197 non-null   float64\n",
      " 10  actual_productivity    1197 non-null   float64\n",
      " 11  overtime_per_worker    1197 non-null   float64\n",
      " 12  department_finishing   1197 non-null   bool   \n",
      " 13  department_sewing      1197 non-null   bool   \n",
      " 14  day_Monday             1197 non-null   bool   \n",
      " 15  day_Saturday           1197 non-null   bool   \n",
      " 16  day_Sunday             1197 non-null   bool   \n",
      " 17  day_Thursday           1197 non-null   bool   \n",
      " 18  day_Tuesday            1197 non-null   bool   \n",
      " 19  day_Wednesday          1197 non-null   bool   \n",
      " 20  quarter_Quarter1       1197 non-null   bool   \n",
      " 21  quarter_Quarter2       1197 non-null   bool   \n",
      " 22  quarter_Quarter3       1197 non-null   bool   \n",
      " 23  quarter_Quarter4       1197 non-null   bool   \n",
      " 24  quarter_Quarter5       1197 non-null   bool   \n",
      "dtypes: bool(13), float64(7), int64(5)\n",
      "memory usage: 127.5 KB\n",
      "None\n"
     ]
    }
   ],
   "source": [
    "#check cleaned dataset\n",
    "print(df.info())"
   ]
  },
  {
   "cell_type": "markdown",
   "metadata": {},
   "source": [
    "# V. Exploratory Data Analysis"
   ]
  },
  {
   "cell_type": "code",
   "execution_count": 34,
   "metadata": {},
   "outputs": [
    {
     "name": "stdout",
     "output_type": "stream",
     "text": [
      "EDA\n"
     ]
    }
   ],
   "source": [
    "print(\"EDA\")"
   ]
  },
  {
   "cell_type": "markdown",
   "metadata": {},
   "source": [
    "## V-A. EDA 1 (Seal)"
   ]
  },
  {
   "cell_type": "markdown",
   "metadata": {},
   "source": [
    "## V-B. EDA 2 (Orrin)"
   ]
  },
  {
   "cell_type": "markdown",
   "metadata": {},
   "source": [
    "## V-C. Day of the Week and Quarter of the Month to Actual Productivity (Tean)"
   ]
  },
  {
   "cell_type": "markdown",
   "metadata": {},
   "source": [
    "Seclude the relevant fields for the EDA"
   ]
  },
  {
   "cell_type": "code",
   "execution_count": 41,
   "metadata": {},
   "outputs": [
    {
     "data": {
      "text/html": [
       "<div>\n",
       "<style scoped>\n",
       "    .dataframe tbody tr th:only-of-type {\n",
       "        vertical-align: middle;\n",
       "    }\n",
       "\n",
       "    .dataframe tbody tr th {\n",
       "        vertical-align: top;\n",
       "    }\n",
       "\n",
       "    .dataframe thead th {\n",
       "        text-align: right;\n",
       "    }\n",
       "</style>\n",
       "<table border=\"1\" class=\"dataframe\">\n",
       "  <thead>\n",
       "    <tr style=\"text-align: right;\">\n",
       "      <th></th>\n",
       "      <th>day_Monday</th>\n",
       "      <th>day_Tuesday</th>\n",
       "      <th>day_Wednesday</th>\n",
       "      <th>day_Thursday</th>\n",
       "      <th>day_Saturday</th>\n",
       "      <th>day_Sunday</th>\n",
       "      <th>quarter_Quarter1</th>\n",
       "      <th>quarter_Quarter2</th>\n",
       "      <th>quarter_Quarter3</th>\n",
       "      <th>quarter_Quarter4</th>\n",
       "      <th>quarter_Quarter5</th>\n",
       "      <th>actual_productivity</th>\n",
       "    </tr>\n",
       "  </thead>\n",
       "  <tbody>\n",
       "    <tr>\n",
       "      <th>0</th>\n",
       "      <td>False</td>\n",
       "      <td>False</td>\n",
       "      <td>False</td>\n",
       "      <td>True</td>\n",
       "      <td>False</td>\n",
       "      <td>False</td>\n",
       "      <td>True</td>\n",
       "      <td>False</td>\n",
       "      <td>False</td>\n",
       "      <td>False</td>\n",
       "      <td>False</td>\n",
       "      <td>0.940725</td>\n",
       "    </tr>\n",
       "    <tr>\n",
       "      <th>1</th>\n",
       "      <td>False</td>\n",
       "      <td>False</td>\n",
       "      <td>False</td>\n",
       "      <td>True</td>\n",
       "      <td>False</td>\n",
       "      <td>False</td>\n",
       "      <td>True</td>\n",
       "      <td>False</td>\n",
       "      <td>False</td>\n",
       "      <td>False</td>\n",
       "      <td>False</td>\n",
       "      <td>0.886500</td>\n",
       "    </tr>\n",
       "    <tr>\n",
       "      <th>2</th>\n",
       "      <td>False</td>\n",
       "      <td>False</td>\n",
       "      <td>False</td>\n",
       "      <td>True</td>\n",
       "      <td>False</td>\n",
       "      <td>False</td>\n",
       "      <td>True</td>\n",
       "      <td>False</td>\n",
       "      <td>False</td>\n",
       "      <td>False</td>\n",
       "      <td>False</td>\n",
       "      <td>0.800570</td>\n",
       "    </tr>\n",
       "    <tr>\n",
       "      <th>3</th>\n",
       "      <td>False</td>\n",
       "      <td>False</td>\n",
       "      <td>False</td>\n",
       "      <td>True</td>\n",
       "      <td>False</td>\n",
       "      <td>False</td>\n",
       "      <td>True</td>\n",
       "      <td>False</td>\n",
       "      <td>False</td>\n",
       "      <td>False</td>\n",
       "      <td>False</td>\n",
       "      <td>0.800570</td>\n",
       "    </tr>\n",
       "    <tr>\n",
       "      <th>4</th>\n",
       "      <td>False</td>\n",
       "      <td>False</td>\n",
       "      <td>False</td>\n",
       "      <td>True</td>\n",
       "      <td>False</td>\n",
       "      <td>False</td>\n",
       "      <td>True</td>\n",
       "      <td>False</td>\n",
       "      <td>False</td>\n",
       "      <td>False</td>\n",
       "      <td>False</td>\n",
       "      <td>0.800382</td>\n",
       "    </tr>\n",
       "    <tr>\n",
       "      <th>...</th>\n",
       "      <td>...</td>\n",
       "      <td>...</td>\n",
       "      <td>...</td>\n",
       "      <td>...</td>\n",
       "      <td>...</td>\n",
       "      <td>...</td>\n",
       "      <td>...</td>\n",
       "      <td>...</td>\n",
       "      <td>...</td>\n",
       "      <td>...</td>\n",
       "      <td>...</td>\n",
       "      <td>...</td>\n",
       "    </tr>\n",
       "    <tr>\n",
       "      <th>1192</th>\n",
       "      <td>False</td>\n",
       "      <td>False</td>\n",
       "      <td>True</td>\n",
       "      <td>False</td>\n",
       "      <td>False</td>\n",
       "      <td>False</td>\n",
       "      <td>False</td>\n",
       "      <td>True</td>\n",
       "      <td>False</td>\n",
       "      <td>False</td>\n",
       "      <td>False</td>\n",
       "      <td>0.628333</td>\n",
       "    </tr>\n",
       "    <tr>\n",
       "      <th>1193</th>\n",
       "      <td>False</td>\n",
       "      <td>False</td>\n",
       "      <td>True</td>\n",
       "      <td>False</td>\n",
       "      <td>False</td>\n",
       "      <td>False</td>\n",
       "      <td>False</td>\n",
       "      <td>True</td>\n",
       "      <td>False</td>\n",
       "      <td>False</td>\n",
       "      <td>False</td>\n",
       "      <td>0.625625</td>\n",
       "    </tr>\n",
       "    <tr>\n",
       "      <th>1194</th>\n",
       "      <td>False</td>\n",
       "      <td>False</td>\n",
       "      <td>True</td>\n",
       "      <td>False</td>\n",
       "      <td>False</td>\n",
       "      <td>False</td>\n",
       "      <td>False</td>\n",
       "      <td>True</td>\n",
       "      <td>False</td>\n",
       "      <td>False</td>\n",
       "      <td>False</td>\n",
       "      <td>0.625625</td>\n",
       "    </tr>\n",
       "    <tr>\n",
       "      <th>1195</th>\n",
       "      <td>False</td>\n",
       "      <td>False</td>\n",
       "      <td>True</td>\n",
       "      <td>False</td>\n",
       "      <td>False</td>\n",
       "      <td>False</td>\n",
       "      <td>False</td>\n",
       "      <td>True</td>\n",
       "      <td>False</td>\n",
       "      <td>False</td>\n",
       "      <td>False</td>\n",
       "      <td>0.505889</td>\n",
       "    </tr>\n",
       "    <tr>\n",
       "      <th>1196</th>\n",
       "      <td>False</td>\n",
       "      <td>False</td>\n",
       "      <td>True</td>\n",
       "      <td>False</td>\n",
       "      <td>False</td>\n",
       "      <td>False</td>\n",
       "      <td>False</td>\n",
       "      <td>True</td>\n",
       "      <td>False</td>\n",
       "      <td>False</td>\n",
       "      <td>False</td>\n",
       "      <td>0.394722</td>\n",
       "    </tr>\n",
       "  </tbody>\n",
       "</table>\n",
       "<p>1197 rows × 12 columns</p>\n",
       "</div>"
      ],
      "text/plain": [
       "      day_Monday  day_Tuesday  day_Wednesday  day_Thursday  day_Saturday  \\\n",
       "0          False        False          False          True         False   \n",
       "1          False        False          False          True         False   \n",
       "2          False        False          False          True         False   \n",
       "3          False        False          False          True         False   \n",
       "4          False        False          False          True         False   \n",
       "...          ...          ...            ...           ...           ...   \n",
       "1192       False        False           True         False         False   \n",
       "1193       False        False           True         False         False   \n",
       "1194       False        False           True         False         False   \n",
       "1195       False        False           True         False         False   \n",
       "1196       False        False           True         False         False   \n",
       "\n",
       "      day_Sunday  quarter_Quarter1  quarter_Quarter2  quarter_Quarter3  \\\n",
       "0          False              True             False             False   \n",
       "1          False              True             False             False   \n",
       "2          False              True             False             False   \n",
       "3          False              True             False             False   \n",
       "4          False              True             False             False   \n",
       "...          ...               ...               ...               ...   \n",
       "1192       False             False              True             False   \n",
       "1193       False             False              True             False   \n",
       "1194       False             False              True             False   \n",
       "1195       False             False              True             False   \n",
       "1196       False             False              True             False   \n",
       "\n",
       "      quarter_Quarter4  quarter_Quarter5  actual_productivity  \n",
       "0                False             False             0.940725  \n",
       "1                False             False             0.886500  \n",
       "2                False             False             0.800570  \n",
       "3                False             False             0.800570  \n",
       "4                False             False             0.800382  \n",
       "...                ...               ...                  ...  \n",
       "1192             False             False             0.628333  \n",
       "1193             False             False             0.625625  \n",
       "1194             False             False             0.625625  \n",
       "1195             False             False             0.505889  \n",
       "1196             False             False             0.394722  \n",
       "\n",
       "[1197 rows x 12 columns]"
      ]
     },
     "execution_count": 41,
     "metadata": {},
     "output_type": "execute_result"
    }
   ],
   "source": [
    "day_quarter_productivity_df = df[['day_Monday', 'day_Tuesday', 'day_Wednesday', 'day_Thursday', 'day_Saturday', 'day_Sunday', 'quarter_Quarter1', 'quarter_Quarter2', 'quarter_Quarter3', 'quarter_Quarter4', 'quarter_Quarter5', 'actual_productivity']]\n",
    "\n",
    "day_quarter_productivity_df"
   ]
  },
  {
   "cell_type": "code",
   "execution_count": 75,
   "metadata": {},
   "outputs": [],
   "source": [
    "# Ensure we are working with a copy of the DataFrame\n",
    "day_quarter_productivity_df = day_quarter_productivity_df.copy()\n",
    "\n",
    "# Make day_of_week and quarter columns\n",
    "day_quarter_productivity_df.loc[:, 'day_of_week'] = day_quarter_productivity_df[['day_Monday', 'day_Tuesday', 'day_Wednesday', 'day_Thursday', 'day_Saturday', 'day_Sunday']].idxmax(axis=1).str.split('_').str[1]\n",
    "day_quarter_productivity_df.loc[:, 'quarter'] = day_quarter_productivity_df[['quarter_Quarter1', 'quarter_Quarter2', 'quarter_Quarter3', 'quarter_Quarter4', 'quarter_Quarter5']].idxmax(axis=1).str.split('_').str[1]"
   ]
  },
  {
   "cell_type": "code",
   "execution_count": 76,
   "metadata": {},
   "outputs": [],
   "source": [
    "# Drop the one-hot encoded columns\n",
    "day_quarter_productivity_df = day_quarter_productivity_df.drop(['day_Monday', 'day_Tuesday', 'day_Wednesday', 'day_Thursday', 'day_Saturday', 'day_Sunday', 'quarter_Quarter1', 'quarter_Quarter2', 'quarter_Quarter3', 'quarter_Quarter4', 'quarter_Quarter5'], axis=1)"
   ]
  },
  {
   "cell_type": "code",
   "execution_count": 77,
   "metadata": {},
   "outputs": [
    {
     "data": {
      "text/html": [
       "<div>\n",
       "<style scoped>\n",
       "    .dataframe tbody tr th:only-of-type {\n",
       "        vertical-align: middle;\n",
       "    }\n",
       "\n",
       "    .dataframe tbody tr th {\n",
       "        vertical-align: top;\n",
       "    }\n",
       "\n",
       "    .dataframe thead th {\n",
       "        text-align: right;\n",
       "    }\n",
       "</style>\n",
       "<table border=\"1\" class=\"dataframe\">\n",
       "  <thead>\n",
       "    <tr style=\"text-align: right;\">\n",
       "      <th></th>\n",
       "      <th>actual_productivity</th>\n",
       "      <th>day_of_week</th>\n",
       "      <th>quarter</th>\n",
       "    </tr>\n",
       "  </thead>\n",
       "  <tbody>\n",
       "    <tr>\n",
       "      <th>0</th>\n",
       "      <td>0.940725</td>\n",
       "      <td>Thursday</td>\n",
       "      <td>Quarter1</td>\n",
       "    </tr>\n",
       "    <tr>\n",
       "      <th>1</th>\n",
       "      <td>0.886500</td>\n",
       "      <td>Thursday</td>\n",
       "      <td>Quarter1</td>\n",
       "    </tr>\n",
       "    <tr>\n",
       "      <th>2</th>\n",
       "      <td>0.800570</td>\n",
       "      <td>Thursday</td>\n",
       "      <td>Quarter1</td>\n",
       "    </tr>\n",
       "    <tr>\n",
       "      <th>3</th>\n",
       "      <td>0.800570</td>\n",
       "      <td>Thursday</td>\n",
       "      <td>Quarter1</td>\n",
       "    </tr>\n",
       "    <tr>\n",
       "      <th>4</th>\n",
       "      <td>0.800382</td>\n",
       "      <td>Thursday</td>\n",
       "      <td>Quarter1</td>\n",
       "    </tr>\n",
       "    <tr>\n",
       "      <th>...</th>\n",
       "      <td>...</td>\n",
       "      <td>...</td>\n",
       "      <td>...</td>\n",
       "    </tr>\n",
       "    <tr>\n",
       "      <th>1192</th>\n",
       "      <td>0.628333</td>\n",
       "      <td>Wednesday</td>\n",
       "      <td>Quarter2</td>\n",
       "    </tr>\n",
       "    <tr>\n",
       "      <th>1193</th>\n",
       "      <td>0.625625</td>\n",
       "      <td>Wednesday</td>\n",
       "      <td>Quarter2</td>\n",
       "    </tr>\n",
       "    <tr>\n",
       "      <th>1194</th>\n",
       "      <td>0.625625</td>\n",
       "      <td>Wednesday</td>\n",
       "      <td>Quarter2</td>\n",
       "    </tr>\n",
       "    <tr>\n",
       "      <th>1195</th>\n",
       "      <td>0.505889</td>\n",
       "      <td>Wednesday</td>\n",
       "      <td>Quarter2</td>\n",
       "    </tr>\n",
       "    <tr>\n",
       "      <th>1196</th>\n",
       "      <td>0.394722</td>\n",
       "      <td>Wednesday</td>\n",
       "      <td>Quarter2</td>\n",
       "    </tr>\n",
       "  </tbody>\n",
       "</table>\n",
       "<p>1197 rows × 3 columns</p>\n",
       "</div>"
      ],
      "text/plain": [
       "      actual_productivity day_of_week   quarter\n",
       "0                0.940725    Thursday  Quarter1\n",
       "1                0.886500    Thursday  Quarter1\n",
       "2                0.800570    Thursday  Quarter1\n",
       "3                0.800570    Thursday  Quarter1\n",
       "4                0.800382    Thursday  Quarter1\n",
       "...                   ...         ...       ...\n",
       "1192             0.628333   Wednesday  Quarter2\n",
       "1193             0.625625   Wednesday  Quarter2\n",
       "1194             0.625625   Wednesday  Quarter2\n",
       "1195             0.505889   Wednesday  Quarter2\n",
       "1196             0.394722   Wednesday  Quarter2\n",
       "\n",
       "[1197 rows x 3 columns]"
      ]
     },
     "execution_count": 77,
     "metadata": {},
     "output_type": "execute_result"
    }
   ],
   "source": [
    "day_quarter_productivity_df"
   ]
  },
  {
   "cell_type": "code",
   "execution_count": 78,
   "metadata": {},
   "outputs": [
    {
     "data": {
      "text/html": [
       "<div>\n",
       "<style scoped>\n",
       "    .dataframe tbody tr th:only-of-type {\n",
       "        vertical-align: middle;\n",
       "    }\n",
       "\n",
       "    .dataframe tbody tr th {\n",
       "        vertical-align: top;\n",
       "    }\n",
       "\n",
       "    .dataframe thead th {\n",
       "        text-align: right;\n",
       "    }\n",
       "</style>\n",
       "<table border=\"1\" class=\"dataframe\">\n",
       "  <thead>\n",
       "    <tr style=\"text-align: right;\">\n",
       "      <th>day_of_week</th>\n",
       "      <th>Sunday</th>\n",
       "      <th>Monday</th>\n",
       "      <th>Tuesday</th>\n",
       "      <th>Wednesday</th>\n",
       "      <th>Thursday</th>\n",
       "      <th>Saturday</th>\n",
       "    </tr>\n",
       "    <tr>\n",
       "      <th>quarter</th>\n",
       "      <th></th>\n",
       "      <th></th>\n",
       "      <th></th>\n",
       "      <th></th>\n",
       "      <th></th>\n",
       "      <th></th>\n",
       "    </tr>\n",
       "  </thead>\n",
       "  <tbody>\n",
       "    <tr>\n",
       "      <th>Quarter1</th>\n",
       "      <td>0.744070</td>\n",
       "      <td>0.746133</td>\n",
       "      <td>0.751094</td>\n",
       "      <td>0.755135</td>\n",
       "      <td>0.749143</td>\n",
       "      <td>0.761843</td>\n",
       "    </tr>\n",
       "    <tr>\n",
       "      <th>Quarter2</th>\n",
       "      <td>0.748086</td>\n",
       "      <td>0.739473</td>\n",
       "      <td>0.760480</td>\n",
       "      <td>0.738996</td>\n",
       "      <td>0.719283</td>\n",
       "      <td>0.741212</td>\n",
       "    </tr>\n",
       "    <tr>\n",
       "      <th>Quarter3</th>\n",
       "      <td>0.677855</td>\n",
       "      <td>0.706273</td>\n",
       "      <td>0.700208</td>\n",
       "      <td>0.695238</td>\n",
       "      <td>0.722660</td>\n",
       "      <td>0.730730</td>\n",
       "    </tr>\n",
       "    <tr>\n",
       "      <th>Quarter4</th>\n",
       "      <td>0.716707</td>\n",
       "      <td>0.737127</td>\n",
       "      <td>0.737412</td>\n",
       "      <td>0.712093</td>\n",
       "      <td>0.654613</td>\n",
       "      <td>0.700899</td>\n",
       "    </tr>\n",
       "    <tr>\n",
       "      <th>Quarter5</th>\n",
       "      <td>NaN</td>\n",
       "      <td>NaN</td>\n",
       "      <td>NaN</td>\n",
       "      <td>NaN</td>\n",
       "      <td>0.791633</td>\n",
       "      <td>0.854926</td>\n",
       "    </tr>\n",
       "  </tbody>\n",
       "</table>\n",
       "</div>"
      ],
      "text/plain": [
       "day_of_week    Sunday    Monday   Tuesday  Wednesday  Thursday  Saturday\n",
       "quarter                                                                 \n",
       "Quarter1     0.744070  0.746133  0.751094   0.755135  0.749143  0.761843\n",
       "Quarter2     0.748086  0.739473  0.760480   0.738996  0.719283  0.741212\n",
       "Quarter3     0.677855  0.706273  0.700208   0.695238  0.722660  0.730730\n",
       "Quarter4     0.716707  0.737127  0.737412   0.712093  0.654613  0.700899\n",
       "Quarter5          NaN       NaN       NaN        NaN  0.791633  0.854926"
      ]
     },
     "execution_count": 78,
     "metadata": {},
     "output_type": "execute_result"
    }
   ],
   "source": [
    "pivot_table = day_quarter_productivity_df.pivot_table(\n",
    "    values='actual_productivity', \n",
    "    index='quarter', \n",
    "    columns='day_of_week', \n",
    "    aggfunc='mean'\n",
    ")\n",
    "\n",
    "# Sort the days of the week\n",
    "pivot_table = pivot_table[['Sunday', 'Monday', 'Tuesday', 'Wednesday', 'Thursday', 'Saturday']]\n",
    "\n",
    "pivot_table"
   ]
  },
  {
   "cell_type": "code",
   "execution_count": 79,
   "metadata": {},
   "outputs": [
    {
     "data": {
      "image/png": "[encoded data removed]",
      "text/plain": [
       "<Figure size 800x600 with 2 Axes>"
      ]
     },
     "metadata": {},
     "output_type": "display_data"
    }
   ],
   "source": [
    "# Plot the pivot table\n",
    "plt.figure(figsize=(8, 6))\n",
    "plt.imshow(pivot_table, cmap='viridis')\n",
    "plt.colorbar()\n",
    "plt.xticks(np.arange(6), pivot_table.columns)\n",
    "plt.yticks(np.arange(5), pivot_table.index)\n",
    "plt.xlabel('Day of the Week')\n",
    "plt.ylabel('Quarter')\n",
    "plt.title('Average Productivity by Day of the Week and Quarter')\n",
    "plt.show()"
   ]
  },
  {
   "cell_type": "markdown",
   "metadata": {},
   "source": [
    "## V-D. Team and SMV(Tan Ai)"
   ]
  },
  {
   "cell_type": "markdown",
   "metadata": {},
   "source": []
  },
  {
   "cell_type": "code",
   "execution_count": 98,
   "metadata": {},
   "outputs": [],
   "source": [
    "TSMV_df = df[['over_time', 'overtime_per_worker']]"
   ]
  },
  {
   "cell_type": "code",
   "execution_count": 100,
   "metadata": {},
   "outputs": [
    {
     "data": {
      "image/png": "[encoded data removed]",
      "text/plain": [
       "<Figure size 640x480 with 1 Axes>"
      ]
     },
     "metadata": {},
     "output_type": "display_data"
    }
   ],
   "source": [
    "TSMV_df = TSMV_df.copy()\n",
    "\n",
    "x = TSMV_df['over_time']\n",
    "y = TSMV_df['overtime_per_worker']\n",
    "plt.scatter(x, y, alpha=0.8)\n",
    "plt.xlabel('Overtime')\n",
    "plt.ylabel('Overtime Per Worker')\n",
    "plt.show()"
   ]
  },
  {
   "cell_type": "markdown",
   "metadata": {},
   "source": [
    "# VI. Initial Model Training"
   ]
  },
  {
   "cell_type": "markdown",
   "metadata": {},
   "source": [
    "## VI-0. Train, Validation, and Test Set Separation"
   ]
  },
  {
   "cell_type": "markdown",
   "metadata": {},
   "source": [
    "## VI-A. Linear Regression"
   ]
  },
  {
   "cell_type": "markdown",
   "metadata": {},
   "source": [
    "## VI-B. Decision Trees"
   ]
  },
  {
   "cell_type": "markdown",
   "metadata": {},
   "source": [
    "## VI-C. Neural Network"
   ]
  },
  {
   "cell_type": "markdown",
   "metadata": {},
   "source": [
    "# VII. Error Analysis"
   ]
  },
  {
   "cell_type": "markdown",
   "metadata": {},
   "source": [
    "# VIII. Improving Model Performance"
   ]
  },
  {
   "cell_type": "markdown",
   "metadata": {},
   "source": [
    "# IX. Model Performance Summary"
   ]
  },
  {
   "cell_type": "markdown",
   "metadata": {},
   "source": [
    "# X. Insights and Conclusions"
   ]
  },
  {
   "cell_type": "markdown",
   "metadata": {},
   "source": [
    "# XI. References"
   ]
  }
 ],
 "metadata": {
  "kernelspec": {
   "display_name": "Python 3",
   "language": "python",
   "name": "python3"
  },
  "language_info": {
   "codemirror_mode": {
    "name": "ipython",
    "version": 3
   },
   "file_extension": ".py",
   "mimetype": "text/x-python",
   "name": "python",
   "nbconvert_exporter": "python",
   "pygments_lexer": "ipython3",
   "version": "3.12.7"
  }
 },
 "nbformat": 4,
 "nbformat_minor": 2
}
